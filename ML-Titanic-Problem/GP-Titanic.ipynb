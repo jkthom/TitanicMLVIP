{
 "cells": [
  {
   "cell_type": "code",
   "execution_count": 16,
   "id": "eceee0fc-1327-4259-bbc0-cca58c3d6b3b",
   "metadata": {
    "ExecuteTime": {
     "end_time": "2025-02-11T04:42:35.605614Z",
     "start_time": "2025-02-11T04:42:35.602463Z"
    }
   },
   "outputs": [],
   "source": [
    "import random\n",
    "import operator\n",
    "\n",
    "import numpy as np\n",
    "import matplotlib.pyplot as plt\n",
    "\n",
    "from deap import algorithms\n",
    "from deap import base\n",
    "from deap import creator\n",
    "from deap import tools\n",
    "from deap import gp\n",
    "\n",
    "import pandas as pd\n",
    "\n",
    "from sklearn.impute import KNNImputer\n",
    "from sklearn.model_selection import train_test_split\n",
    "\n",
    "import math"
   ]
  },
  {
   "cell_type": "code",
   "execution_count": 17,
   "id": "8511cfe8",
   "metadata": {
    "ExecuteTime": {
     "end_time": "2025-02-11T04:42:36.087061Z",
     "start_time": "2025-02-11T04:42:36.083817Z"
    }
   },
   "outputs": [
    {
     "data": {
      "text/plain": "'\\nNOTE:\\n\\nTerminals - min/max/avg of columns, 0, 1, -1\\n\\nMutations - mutShrink and mutNodeReplacement with 50% chance of picking one or the other is what I used in lab 2\\n\\nObjectives - individual size, FP, FN, inaccuracy\\n\\nprimitives: power 2, power -1, power 3\\n'"
     },
     "execution_count": 17,
     "metadata": {},
     "output_type": "execute_result"
    }
   ],
   "source": [
    "\"\"\"\n",
    "NOTE:\n",
    "\n",
    "Terminals - min/max/avg of columns, 0, 1, -1\n",
    "\n",
    "Mutations - mutShrink and mutNodeReplacement with 50% chance of picking one or the other is what I used in lab 2\n",
    "\n",
    "Objectives - individual size, FP, FN, inaccuracy\n",
    "\n",
    "primitives: power 2, power -1, power 3\n",
    "\"\"\""
   ]
  },
  {
   "cell_type": "code",
   "execution_count": 18,
   "id": "e1041632-0618-4a9e-a2fe-0786dfb16196",
   "metadata": {
    "ExecuteTime": {
     "end_time": "2025-02-11T04:42:36.978906Z",
     "start_time": "2025-02-11T04:42:36.974512Z"
    }
   },
   "outputs": [
    {
     "name": "stderr",
     "output_type": "stream",
     "text": [
      "/opt/anaconda3/lib/python3.12/site-packages/deap/creator.py:185: RuntimeWarning: A class named 'FitnessMin' has already been created and it will be overwritten. Consider deleting previous creation of that class or rename it.\n",
      "  warnings.warn(\"A class named '{0}' has already been created and it \"\n",
      "/opt/anaconda3/lib/python3.12/site-packages/deap/creator.py:185: RuntimeWarning: A class named 'Individual' has already been created and it will be overwritten. Consider deleting previous creation of that class or rename it.\n",
      "  warnings.warn(\"A class named '{0}' has already been created and it \"\n"
     ]
    }
   ],
   "source": [
    "# will minimize fp's, fn's, tree depth, and inaccuracy\n",
    "# fitness will be tuple: (fp's, fn's, tree depth, inaccuracy)\n",
    "\n",
    "creator.create(\"FitnessMin\", base.Fitness, weights=(-1.0,-1.0,-0.5))\n",
    "creator.create(\"Individual\", gp.PrimitiveTree, fitness=creator.FitnessMin)"
   ]
  },
  {
   "cell_type": "code",
   "execution_count": 19,
   "id": "d611ad46-9cdd-427e-a2c2-ad80f47a954f",
   "metadata": {
    "ExecuteTime": {
     "end_time": "2025-02-11T04:42:38.147560Z",
     "start_time": "2025-02-11T04:42:38.140002Z"
    }
   },
   "outputs": [],
   "source": [
    "# load data\n",
    "train_data = pd.read_csv('train.csv')\n",
    "test_data = pd.read_csv('test.csv')"
   ]
  },
  {
   "cell_type": "code",
   "execution_count": 20,
   "id": "a255d09c-6ac1-4046-b7f2-26992e4adc8f",
   "metadata": {
    "ExecuteTime": {
     "end_time": "2025-02-11T04:42:40.656828Z",
     "start_time": "2025-02-11T04:42:40.643167Z"
    }
   },
   "outputs": [
    {
     "name": "stderr",
     "output_type": "stream",
     "text": [
      "/var/folders/21/k1c5gbs95m14xwrmrbkjd2680000gn/T/ipykernel_31288/1101249441.py:21: FutureWarning: Downcasting behavior in `replace` is deprecated and will be removed in a future version. To retain the old behavior, explicitly call `result.infer_objects(copy=False)`. To opt-in to the future behavior, set `pd.set_option('future.no_silent_downcasting', True)`\n",
      "  train_data.replace(columns_map, inplace=True)\n",
      "/var/folders/21/k1c5gbs95m14xwrmrbkjd2680000gn/T/ipykernel_31288/1101249441.py:22: FutureWarning: Downcasting behavior in `replace` is deprecated and will be removed in a future version. To retain the old behavior, explicitly call `result.infer_objects(copy=False)`. To opt-in to the future behavior, set `pd.set_option('future.no_silent_downcasting', True)`\n",
      "  test_data.replace(columns_map, inplace=True)\n"
     ]
    }
   ],
   "source": [
    "# preprocess data\n",
    "\n",
    "train_data.drop(columns=['Name', 'Ticket', 'Cabin'], inplace=True)\n",
    "train_data.set_index(keys=['PassengerId'], drop=True, inplace=True)\n",
    "\n",
    "test_data.drop(columns=['Name', 'Ticket', 'Cabin'], inplace=True)\n",
    "test_data.set_index(keys=['PassengerId'], drop=True, inplace=True)\n",
    "\n",
    "train_nan_map = {'Age': train_data['Age'].mean(), 'Fare': train_data['Fare'].mean(), 'Embarked': train_data['Embarked'].mode()[0]}\n",
    "test_nan_map = {'Age': test_data['Age'].mean(), 'Fare': test_data['Fare'].mean(), 'Embarked': test_data['Embarked'].mode()[0]}\n",
    "\n",
    "train_data.fillna(value=train_nan_map, inplace=True)\n",
    "test_data.fillna(value=test_nan_map, inplace=True)\n",
    "\n",
    "train_data = pd.get_dummies(train_data, columns=['Embarked'], dtype=int)\n",
    "test_data = pd.get_dummies(test_data, columns=['Embarked'], dtype=int)\n",
    "\n",
    "train_data, test_data = train_data.align(test_data, join='left', axis=1, fill_value=0)\n",
    "\n",
    "columns_map = {'Sex': {'male': 0, 'female': 1}}\n",
    "train_data.replace(columns_map, inplace=True)\n",
    "test_data.replace(columns_map, inplace=True)\n",
    "\n",
    "X_train = train_data.loc[:, train_data.columns != 'Survived']\n",
    "y_train = train_data.loc[:, 'Survived']\n",
    "\n",
    "x_train, x_test, y_train, y_test = train_test_split(X_train, y_train, test_size=0.33, random_state=10)"
   ]
  },
  {
   "cell_type": "code",
   "execution_count": 21,
   "id": "7f4ac3da",
   "metadata": {
    "ExecuteTime": {
     "end_time": "2025-02-11T04:42:42.514733Z",
     "start_time": "2025-02-11T04:42:42.507991Z"
    }
   },
   "outputs": [
    {
     "data": {
      "text/plain": "             Survived  Pclass  Sex   Age  SibSp  Parch     Fare  Embarked_C  \\\nPassengerId                                                                   \n1                   0       3    0  22.0      1      0   7.2500           0   \n2                   1       1    1  38.0      1      0  71.2833           1   \n3                   1       3    1  26.0      0      0   7.9250           0   \n4                   1       1    1  35.0      1      0  53.1000           0   \n5                   0       3    0  35.0      0      0   8.0500           0   \n\n             Embarked_Q  Embarked_S  \nPassengerId                          \n1                     0           1  \n2                     0           0  \n3                     0           1  \n4                     0           1  \n5                     0           1  ",
      "text/html": "<div>\n<style scoped>\n    .dataframe tbody tr th:only-of-type {\n        vertical-align: middle;\n    }\n\n    .dataframe tbody tr th {\n        vertical-align: top;\n    }\n\n    .dataframe thead th {\n        text-align: right;\n    }\n</style>\n<table border=\"1\" class=\"dataframe\">\n  <thead>\n    <tr style=\"text-align: right;\">\n      <th></th>\n      <th>Survived</th>\n      <th>Pclass</th>\n      <th>Sex</th>\n      <th>Age</th>\n      <th>SibSp</th>\n      <th>Parch</th>\n      <th>Fare</th>\n      <th>Embarked_C</th>\n      <th>Embarked_Q</th>\n      <th>Embarked_S</th>\n    </tr>\n    <tr>\n      <th>PassengerId</th>\n      <th></th>\n      <th></th>\n      <th></th>\n      <th></th>\n      <th></th>\n      <th></th>\n      <th></th>\n      <th></th>\n      <th></th>\n      <th></th>\n    </tr>\n  </thead>\n  <tbody>\n    <tr>\n      <th>1</th>\n      <td>0</td>\n      <td>3</td>\n      <td>0</td>\n      <td>22.0</td>\n      <td>1</td>\n      <td>0</td>\n      <td>7.2500</td>\n      <td>0</td>\n      <td>0</td>\n      <td>1</td>\n    </tr>\n    <tr>\n      <th>2</th>\n      <td>1</td>\n      <td>1</td>\n      <td>1</td>\n      <td>38.0</td>\n      <td>1</td>\n      <td>0</td>\n      <td>71.2833</td>\n      <td>1</td>\n      <td>0</td>\n      <td>0</td>\n    </tr>\n    <tr>\n      <th>3</th>\n      <td>1</td>\n      <td>3</td>\n      <td>1</td>\n      <td>26.0</td>\n      <td>0</td>\n      <td>0</td>\n      <td>7.9250</td>\n      <td>0</td>\n      <td>0</td>\n      <td>1</td>\n    </tr>\n    <tr>\n      <th>4</th>\n      <td>1</td>\n      <td>1</td>\n      <td>1</td>\n      <td>35.0</td>\n      <td>1</td>\n      <td>0</td>\n      <td>53.1000</td>\n      <td>0</td>\n      <td>0</td>\n      <td>1</td>\n    </tr>\n    <tr>\n      <th>5</th>\n      <td>0</td>\n      <td>3</td>\n      <td>0</td>\n      <td>35.0</td>\n      <td>0</td>\n      <td>0</td>\n      <td>8.0500</td>\n      <td>0</td>\n      <td>0</td>\n      <td>1</td>\n    </tr>\n  </tbody>\n</table>\n</div>"
     },
     "execution_count": 21,
     "metadata": {},
     "output_type": "execute_result"
    }
   ],
   "source": [
    "train_data.head()"
   ]
  },
  {
   "cell_type": "code",
   "execution_count": 22,
   "id": "6d966d2f-1c17-404a-84d4-221195a3864a",
   "metadata": {
    "ExecuteTime": {
     "end_time": "2025-02-11T04:42:45.988181Z",
     "start_time": "2025-02-11T04:42:45.980737Z"
    }
   },
   "outputs": [
    {
     "data": {
      "text/plain": "             Survived  Pclass  Sex   Age  SibSp  Parch     Fare  Embarked_C  \\\nPassengerId                                                                   \n892                 0       3    0  34.5      0      0   7.8292           0   \n893                 0       3    1  47.0      1      0   7.0000           0   \n894                 0       2    0  62.0      0      0   9.6875           0   \n895                 0       3    0  27.0      0      0   8.6625           0   \n896                 0       3    1  22.0      1      1  12.2875           0   \n\n             Embarked_Q  Embarked_S  \nPassengerId                          \n892                   1           0  \n893                   0           1  \n894                   1           0  \n895                   0           1  \n896                   0           1  ",
      "text/html": "<div>\n<style scoped>\n    .dataframe tbody tr th:only-of-type {\n        vertical-align: middle;\n    }\n\n    .dataframe tbody tr th {\n        vertical-align: top;\n    }\n\n    .dataframe thead th {\n        text-align: right;\n    }\n</style>\n<table border=\"1\" class=\"dataframe\">\n  <thead>\n    <tr style=\"text-align: right;\">\n      <th></th>\n      <th>Survived</th>\n      <th>Pclass</th>\n      <th>Sex</th>\n      <th>Age</th>\n      <th>SibSp</th>\n      <th>Parch</th>\n      <th>Fare</th>\n      <th>Embarked_C</th>\n      <th>Embarked_Q</th>\n      <th>Embarked_S</th>\n    </tr>\n    <tr>\n      <th>PassengerId</th>\n      <th></th>\n      <th></th>\n      <th></th>\n      <th></th>\n      <th></th>\n      <th></th>\n      <th></th>\n      <th></th>\n      <th></th>\n      <th></th>\n    </tr>\n  </thead>\n  <tbody>\n    <tr>\n      <th>892</th>\n      <td>0</td>\n      <td>3</td>\n      <td>0</td>\n      <td>34.5</td>\n      <td>0</td>\n      <td>0</td>\n      <td>7.8292</td>\n      <td>0</td>\n      <td>1</td>\n      <td>0</td>\n    </tr>\n    <tr>\n      <th>893</th>\n      <td>0</td>\n      <td>3</td>\n      <td>1</td>\n      <td>47.0</td>\n      <td>1</td>\n      <td>0</td>\n      <td>7.0000</td>\n      <td>0</td>\n      <td>0</td>\n      <td>1</td>\n    </tr>\n    <tr>\n      <th>894</th>\n      <td>0</td>\n      <td>2</td>\n      <td>0</td>\n      <td>62.0</td>\n      <td>0</td>\n      <td>0</td>\n      <td>9.6875</td>\n      <td>0</td>\n      <td>1</td>\n      <td>0</td>\n    </tr>\n    <tr>\n      <th>895</th>\n      <td>0</td>\n      <td>3</td>\n      <td>0</td>\n      <td>27.0</td>\n      <td>0</td>\n      <td>0</td>\n      <td>8.6625</td>\n      <td>0</td>\n      <td>0</td>\n      <td>1</td>\n    </tr>\n    <tr>\n      <th>896</th>\n      <td>0</td>\n      <td>3</td>\n      <td>1</td>\n      <td>22.0</td>\n      <td>1</td>\n      <td>1</td>\n      <td>12.2875</td>\n      <td>0</td>\n      <td>0</td>\n      <td>1</td>\n    </tr>\n  </tbody>\n</table>\n</div>"
     },
     "execution_count": 22,
     "metadata": {},
     "output_type": "execute_result"
    }
   ],
   "source": [
    "test_data.head()"
   ]
  },
  {
   "cell_type": "code",
   "execution_count": 23,
   "id": "4d93a375-c344-441a-afcf-1e7bb7ce3c09",
   "metadata": {
    "ExecuteTime": {
     "end_time": "2025-02-11T04:42:50.573164Z",
     "start_time": "2025-02-11T04:42:50.566320Z"
    }
   },
   "outputs": [
    {
     "name": "stdout",
     "output_type": "stream",
     "text": [
      "Age     0.42\n",
      "Fare    0.00\n",
      "dtype: float64 Age      80.0000\n",
      "Fare    512.3292\n",
      "dtype: float64 29.87112761547572 33.48298288590604 67.94471452822741\n"
     ]
    }
   ],
   "source": [
    "# section to compute terminals\n",
    "# features: sex, age, sibsp, parch, ticket, fare, embarked\n",
    "# types: int, bool, float, int, int, int, float, int\n",
    "\n",
    "min_data = x_train[['Age', 'Fare']].min(axis=0)\n",
    "max_data = x_train[['Age', 'Fare']].max(axis=0)\n",
    "\n",
    "age_avg = np.average(x_train.loc[:, 'Age'])\n",
    "fare_avg = np.average(x_train.loc[:, 'Fare'])\n",
    "row_sums = x_train.sum(axis=1)\n",
    "feature_sum_avg = np.average(row_sums)\n",
    "print(min_data,max_data,age_avg,fare_avg,feature_sum_avg)"
   ]
  },
  {
   "cell_type": "code",
   "execution_count": 24,
   "id": "d2344f38-e0f0-48d8-be48-ab1aa83869a7",
   "metadata": {
    "ExecuteTime": {
     "end_time": "2025-02-11T04:42:54.816724Z",
     "start_time": "2025-02-11T04:42:54.808999Z"
    }
   },
   "outputs": [],
   "source": [
    "random.seed(50)\n",
    "\n",
    "# funcion to convert float to bool\n",
    "def float_to_bool(x: float) -> bool:\n",
    "    if x > 0:\n",
    "        return True\n",
    "    else:\n",
    "        return False\n",
    "def bool_to_float(x):\n",
    "    return float(1 if x else 0)\n",
    "\n",
    "# add primitives to typed primitive set\n",
    "# using typed set to ensure boolean output\n",
    "# we have 9 inputs, of types:\n",
    "in_types = [float, bool, float, float, float, float, bool, bool, bool]\n",
    "#in_types = [float, bool, float, float, float, float, float, float]\n",
    "pset = gp.PrimitiveSetTyped(\"MAIN\", in_types, bool)\n",
    "pset.addPrimitive(np.add, [float, float], float)\n",
    "pset.addPrimitive(np.subtract, [float, float], float)     # TODO: might need to change all inputs to be floats...\n",
    "pset.addPrimitive(np.multiply, [float, float], float)\n",
    "pset.addPrimitive(np.negative, [float], float)\n",
    "pset.addPrimitive(np.greater, [float, float], bool)\n",
    "pset.addPrimitive(np.less, [float, float], bool)\n",
    "pset.addPrimitive(np.logical_or, [bool, bool], bool)\n",
    "pset.addPrimitive(np.logical_and, [bool, bool], bool)\n",
    "pset.addPrimitive(np.logical_not, [bool], bool)\n",
    "\n",
    "pset.addPrimitive(float_to_bool, [float], bool)\n",
    "pset.addPrimitive(bool_to_float, [bool], float)\n",
    "# add terminals\n",
    "pset.addTerminal(age_avg, float, name='age_avg')\n",
    "pset.addTerminal(fare_avg, float, name='fare_avg')\n",
    "pset.addTerminal(feature_sum_avg, float, name='feature_sum_avg')\n",
    "\n",
    "\n",
    "# rename 9 inputs\n",
    "pset.renameArguments(ARG0='pclass')\n",
    "pset.renameArguments(ARG1='sex')\n",
    "pset.renameArguments(ARG2='age')\n",
    "pset.renameArguments(ARG3='sibsp')\n",
    "pset.renameArguments(ARG4='parch')\n",
    "pset.renameArguments(ARG5='fare')\n",
    "pset.renameArguments(ARG6='embarked_C')\n",
    "pset.renameArguments(ARG7='embarked_S')\n",
    "pset.renameArguments(ARG8='embarked_Q')\n",
    "\n",
    "toolbox = base.Toolbox()\n",
    "toolbox.register(\"expr\", gp.genHalfAndHalf, pset=pset, min_=6, max_=10)\n",
    "toolbox.register(\"individual\", tools.initIterate, creator.Individual, toolbox.expr)\n",
    "toolbox.register(\"population\", tools.initRepeat, list, toolbox.individual)\n",
    "toolbox.register(\"compile\", gp.compile, pset=pset)\n"
   ]
  },
  {
   "cell_type": "code",
   "execution_count": 25,
   "id": "7207f378-9a43-433d-9dac-5a4187288c29",
   "metadata": {
    "ExecuteTime": {
     "end_time": "2025-02-11T04:42:56.353663Z",
     "start_time": "2025-02-11T04:42:56.346100Z"
    }
   },
   "outputs": [],
   "source": [
    "def evalIndividual(individual, x_values, y_values, pset, *args, **kwargs):\n",
    "    func = gp.compile(expr=individual, pset=pset)\n",
    "\n",
    "    y_pred = [func(*x) for x in x_values]\n",
    "\n",
    "    y_values = np.array(y_values)\n",
    "    y_pred = np.array(y_pred, dtype=bool)\n",
    "\n",
    "    fps = np.sum((y_values == 0) & (y_pred == True))\n",
    "    fns = np.sum((y_values == 1) & (y_pred == False))\n",
    "    \n",
    "    return (fps, fns, len(individual))\n",
    "\n",
    "x_train = x_train.values.tolist()\n",
    "y_train = y_train.values.tolist()\n",
    "toolbox.register(\"evaluate\", evalIndividual, x_values=x_train, y_values=y_train, pset=pset)\n",
    "toolbox.register(\"select\", tools.selNSGA3, ref_points=tools.uniform_reference_points(nobj=3, p=10), nd='standard', return_memory=False)\n",
    "toolbox.register(\"mate\", gp.cxOnePoint)\n",
    "toolbox.register(\"expr_mut\", gp.genFull, min_=0, max_=8)\n",
    "\n",
    "def mutCustom(ind, expr, pset):\n",
    "    if random.random() < 0.5:\n",
    "        return gp.mutInsert(gp.mutInsert(ind, pset)[0], pset)\n",
    "    else:\n",
    "        return gp.mutShrink(gp.mutShrink(ind)[0])\n",
    "\n",
    "toolbox.register(\"mutate\", mutCustom, expr=toolbox.expr_mut, pset=pset)\n",
    "toolbox.register(\"mutate_node\", gp.mutNodeReplacement, pset=pset)\n",
    "\n",
    "toolbox.decorate(\"mate\", gp.staticLimit(key=operator.attrgetter(\"height\"), max_value=9))\n",
    "toolbox.decorate(\"mutate\", gp.staticLimit(key=operator.attrgetter(\"height\"), max_value=9))\n",
    "toolbox.decorate(\"mutate_node\", gp.staticLimit(key=operator.attrgetter(\"height\"), max_value=9))"
   ]
  },
  {
   "cell_type": "code",
   "execution_count": 26,
   "id": "7242a70e",
   "metadata": {
    "scrolled": true,
    "ExecuteTime": {
     "end_time": "2025-02-11T04:50:48.552998Z",
     "start_time": "2025-02-11T04:43:10.792392Z"
    }
   },
   "outputs": [
    {
     "name": "stdout",
     "output_type": "stream",
     "text": [
      "{'avg': array([187.3 , 108.51,  88.19]), 'std': array([161.36626041, 102.71080712,  83.99496354]), 'min': array([ 0.,  0., 12.]), 'max': array([358., 238., 492.])}\n",
      "Gen 1 {'avg': array([184.36,  89.7 ,  50.2 ]), 'std': array([138.8491642 ,  76.76164407,  41.9926184 ]), 'min': array([0., 0., 2.]), 'max': array([358., 238., 204.])}\n",
      "Gen 2 {'avg': array([132.34, 115.81,  41.96]), 'std': array([133.93873376,  82.57126558,  43.72731869]), 'min': array([0., 0., 2.]), 'max': array([350., 238., 174.])}\n",
      "Gen 3 {'avg': array([131.89,  98.38,  42.64]), 'std': array([127.06477836,  72.411709  ,  48.9437473 ]), 'min': array([0., 0., 2.]), 'max': array([350., 238., 159.])}\n",
      "Gen 4 {'avg': array([116.68, 101.27,  41.49]), 'std': array([118.60100168,  73.11741995,  44.14124942]), 'min': array([0., 0., 2.]), 'max': array([350., 238., 152.])}\n",
      "Gen 5 {'avg': array([128.03,  88.75,  34.49]), 'std': array([119.90908681,  68.76109001,  41.39915337]), 'min': array([0., 0., 2.]), 'max': array([350., 238., 153.])}\n",
      "Gen 6 {'avg': array([120.06,  82.26,  32.84]), 'std': array([111.78960775,  63.49009687,  40.18699292]), 'min': array([0., 0., 2.]), 'max': array([350., 238., 157.])}\n",
      "Gen 7 {'avg': array([115.3 ,  84.9 ,  32.84]), 'std': array([109.17119583,  64.52170178,  35.51104617]), 'min': array([0., 0., 2.]), 'max': array([350., 238., 143.])}\n",
      "Gen 8 {'avg': array([114.11,  81.06,  31.65]), 'std': array([106.94717341,  61.8002945 ,  36.14591955]), 'min': array([0., 0., 2.]), 'max': array([350., 238., 147.])}\n",
      "Gen 9 {'avg': array([112.59,  78.69,  30.63]), 'std': array([105.81333517,  58.58646516,  32.95805061]), 'min': array([0., 0., 2.]), 'max': array([350., 238., 134.])}\n",
      "Gen 10 {'avg': array([115.27,  75.39,  34.3 ]), 'std': array([103.41149404,  58.28874591,  36.66592423]), 'min': array([0., 0., 2.]), 'max': array([350., 238., 137.])}\n",
      "Gen 11 {'avg': array([116.32,  76.73,  37.4 ]), 'std': array([106.72055847,  59.32282107,  39.40761348]), 'min': array([0., 0., 2.]), 'max': array([350., 238., 137.])}\n",
      "Gen 12 {'avg': array([115.77,  74.39,  36.72]), 'std': array([103.02076053,  57.37541198,  37.59709563]), 'min': array([0., 0., 2.]), 'max': array([350., 238., 139.])}\n",
      "Gen 13 {'avg': array([117.13,  72.23,  34.22]), 'std': array([101.52237734,  57.80153199,  33.70536456]), 'min': array([0., 0., 2.]), 'max': array([350., 238., 137.])}\n",
      "Gen 14 {'avg': array([116.82,  72.37,  35.64]), 'std': array([102.1782149 ,  57.24590029,  33.76107818]), 'min': array([0., 0., 2.]), 'max': array([350., 238., 141.])}\n",
      "Gen 15 {'avg': array([111.6 ,  72.2 ,  37.98]), 'std': array([98.64755446, 55.34347297, 38.71149183]), 'min': array([0., 0., 2.]), 'max': array([350., 238., 145.])}\n",
      "Gen 16 {'avg': array([113.41,  69.96,  36.01]), 'std': array([97.68091881, 53.49708777, 35.49915351]), 'min': array([0., 0., 2.]), 'max': array([350., 238., 145.])}\n",
      "Gen 17 {'avg': array([114.05,  67.02,  35.78]), 'std': array([97.35618881, 50.58378792, 33.64983804]), 'min': array([0., 0., 2.]), 'max': array([350., 238., 145.])}\n",
      "Gen 18 {'avg': array([114.99,  66.86,  32.88]), 'std': array([97.64850178, 50.18645634, 32.71185718]), 'min': array([0., 0., 2.]), 'max': array([350., 238., 141.])}\n",
      "Gen 19 {'avg': array([111.86,  68.8 ,  31.07]), 'std': array([95.40796822, 50.44343367, 31.84784294]), 'min': array([0., 0., 2.]), 'max': array([350., 238., 139.])}\n",
      "Gen 20 {'avg': array([111.07,  68.39,  34.13]), 'std': array([94.45848347, 52.26641273, 32.32325943]), 'min': array([0., 0., 2.]), 'max': array([350., 238., 135.])}\n",
      "Gen 21 {'avg': array([112.8 ,  65.73,  32.72]), 'std': array([94.30153763, 48.96771487, 32.02751317]), 'min': array([0., 0., 2.]), 'max': array([350., 238., 135.])}\n",
      "Gen 22 {'avg': array([116.65,  66.24,  29.53]), 'std': array([99.47003318, 52.29017499, 29.70503493]), 'min': array([0., 0., 2.]), 'max': array([350., 238., 131.])}\n",
      "Gen 23 {'avg': array([112.64,  66.85,  30.16]), 'std': array([95.06129812, 51.5302581 , 29.59720257]), 'min': array([0., 0., 2.]), 'max': array([350., 238., 133.])}\n",
      "Gen 24 {'avg': array([113.44,  65.84,  31.1 ]), 'std': array([95.26639701, 51.40597631, 30.3530888 ]), 'min': array([0., 0., 2.]), 'max': array([350., 238., 133.])}\n",
      "Gen 25 {'avg': array([109.77,  65.02,  30.75]), 'std': array([92.19640503, 47.41286323, 30.44417021]), 'min': array([0., 0., 2.]), 'max': array([350., 238., 133.])}\n",
      "Gen 26 {'avg': array([112.29,  64.32,  32.11]), 'std': array([91.53538059, 48.69740856, 32.71815857]), 'min': array([0., 0., 2.]), 'max': array([350., 238., 133.])}\n",
      "Gen 27 {'avg': array([116.27,  63.49,  32.5 ]), 'std': array([96.16484337, 49.0820731 , 32.59463146]), 'min': array([0., 0., 2.]), 'max': array([350., 238., 136.])}\n",
      "Gen 28 {'avg': array([121.22,  62.94,  32.75]), 'std': array([98.02158742, 48.72038998, 34.86699729]), 'min': array([0., 0., 2.]), 'max': array([350., 238., 136.])}\n",
      "Gen 29 {'avg': array([121.6 ,  61.52,  33.47]), 'std': array([98.10514767, 48.75212406, 34.13164368]), 'min': array([0., 0., 2.]), 'max': array([350., 238., 129.])}\n",
      "Gen 30 {'avg': array([121.35,  64.3 ,  32.27]), 'std': array([99.55092918, 52.19013317, 31.9671253 ]), 'min': array([0., 0., 2.]), 'max': array([350., 238., 129.])}\n",
      "Gen 31 {'avg': array([120.48,  63.31,  32.1 ]), 'std': array([98.87603147, 52.34189431, 33.86103956]), 'min': array([0., 0., 2.]), 'max': array([350., 238., 132.])}\n",
      "Gen 32 {'avg': array([116.29,  63.39,  32.13]), 'std': array([96.64267122, 49.14161068, 34.17766961]), 'min': array([0., 0., 2.]), 'max': array([350., 238., 131.])}\n",
      "Gen 33 {'avg': array([116.07,  64.73,  30.93]), 'std': array([96.65860076, 51.08284546, 31.05809234]), 'min': array([0., 0., 2.]), 'max': array([350., 238., 117.])}\n",
      "Gen 34 {'avg': array([119.45,  63.03,  29.25]), 'std': array([97.07567924, 50.12034617, 31.08226987]), 'min': array([0., 0., 2.]), 'max': array([350., 238., 117.])}\n",
      "Gen 35 {'avg': array([122.21,  60.74,  28.36]), 'std': array([97.70458485, 47.41131089, 29.89532405]), 'min': array([0., 0., 2.]), 'max': array([350., 238., 124.])}\n",
      "Gen 36 {'avg': array([121.49,  60.89,  28.39]), 'std': array([97.52163811, 48.66084566, 28.96546047]), 'min': array([0., 0., 2.]), 'max': array([350., 238., 124.])}\n",
      "Gen 37 {'avg': array([121.24,  62.63,  29.14]), 'std': array([100.77123796,  51.35925525,  28.76074408]), 'min': array([0., 0., 2.]), 'max': array([350., 238., 121.])}\n",
      "Gen 38 {'avg': array([113.14,  65.03,  27.74]), 'std': array([96.62649947, 51.0338035 , 27.78151184]), 'min': array([0., 0., 2.]), 'max': array([350., 238., 121.])}\n",
      "Gen 39 {'avg': array([113.09,  64.21,  29.81]), 'std': array([96.32788745, 51.44711751, 29.43253132]), 'min': array([0., 0., 2.]), 'max': array([350., 238., 121.])}\n",
      "Gen 40 {'avg': array([108.29,  66.72,  29.08]), 'std': array([90.8573932 , 51.34005843, 29.50785658]), 'min': array([0., 0., 2.]), 'max': array([350., 238., 123.])}\n",
      "Gen 41 {'avg': array([118.36,  63.14,  29.88]), 'std': array([98.58727301, 52.47075757, 29.83329683]), 'min': array([0., 0., 2.]), 'max': array([350., 238., 123.])}\n",
      "Gen 42 {'avg': array([117.15,  63.69,  30.09]), 'std': array([98.31178719, 51.08927383, 30.71354587]), 'min': array([0., 0., 2.]), 'max': array([350., 238., 123.])}\n",
      "Gen 43 {'avg': array([113.92,  62.99,  30.03]), 'std': array([95.23262886, 47.81537305, 30.42152363]), 'min': array([0., 0., 2.]), 'max': array([350., 238., 126.])}\n",
      "Gen 44 {'avg': array([111.55,  64.3 ,  28.09]), 'std': array([93.84693655, 48.09812886, 28.45982958]), 'min': array([0., 0., 2.]), 'max': array([350., 238., 116.])}\n",
      "Gen 45 {'avg': array([114.67,  62.75,  28.13]), 'std': array([94.5856284 , 49.63635261, 25.15339142]), 'min': array([0., 0., 2.]), 'max': array([350., 238., 116.])}\n",
      "Gen 46 {'avg': array([112.54,  64.22,  25.74]), 'std': array([94.9215908 , 48.7609639 , 22.97373283]), 'min': array([0., 0., 2.]), 'max': array([350., 238., 120.])}\n",
      "Gen 47 {'avg': array([111.11,  64.31,  26.3 ]), 'std': array([94.17068493, 48.40117664, 23.96142734]), 'min': array([0., 0., 2.]), 'max': array([350., 238., 117.])}\n",
      "Gen 48 {'avg': array([112.03,  67.22,  27.14]), 'std': array([97.11832525, 53.79527489, 26.25072189]), 'min': array([0., 0., 2.]), 'max': array([350., 238., 117.])}\n",
      "Gen 49 {'avg': array([116.16,  66.24,  27.3 ]), 'std': array([100.72474572,  52.91315904,  26.04707277]), 'min': array([0., 0., 2.]), 'max': array([350., 238., 111.])}\n",
      "Gen 50 {'avg': array([112.45,  66.87,  27.13]), 'std': array([98.48577308, 51.10511814, 24.73647307]), 'min': array([0., 0., 2.]), 'max': array([350., 238., 111.])}\n",
      "Gen 51 {'avg': array([111.39,  68.05,  26.42]), 'std': array([98.61814184, 52.78624347, 24.34304007]), 'min': array([0., 0., 2.]), 'max': array([350., 238., 111.])}\n",
      "Gen 52 {'avg': array([110.82,  67.75,  24.44]), 'std': array([95.05644428, 52.4936901 , 22.38763945]), 'min': array([0., 0., 2.]), 'max': array([350., 238., 111.])}\n",
      "Gen 53 {'avg': array([116.37,  66.65,  24.79]), 'std': array([98.88403865, 53.83537406, 23.44068898]), 'min': array([0., 0., 2.]), 'max': array([350., 238., 111.])}\n",
      "Gen 54 {'avg': array([118.98,  63.68,  24.58]), 'std': array([96.96586822, 51.08950577, 23.94      ]), 'min': array([0., 0., 2.]), 'max': array([350., 238., 111.])}\n",
      "Gen 55 {'avg': array([119.4 ,  67.51,  21.69]), 'std': array([100.80972175,  53.07814899,  20.02982526]), 'min': array([0., 0., 2.]), 'max': array([350., 238.,  83.])}\n",
      "Gen 56 {'avg': array([111.09,  67.61,  21.69]), 'std': array([97.03608556, 51.65615065, 18.70224318]), 'min': array([0., 0., 2.]), 'max': array([350., 238.,  83.])}\n",
      "Gen 57 {'avg': array([107.38,  69.87,  22.93]), 'std': array([94.91762534, 53.00068962, 19.80719819]), 'min': array([0., 0., 2.]), 'max': array([350., 238.,  83.])}\n",
      "Gen 58 {'avg': array([113.52,  68.17,  21.52]), 'std': array([100.10988762,  52.26720865,  20.15265739]), 'min': array([0., 0., 2.]), 'max': array([350., 238.,  83.])}\n",
      "Gen 59 {'avg': array([114.81,  67.15,  22.07]), 'std': array([97.14470598, 51.46909267, 20.43294154]), 'min': array([0., 0., 2.]), 'max': array([350., 238.,  95.])}\n",
      "Gen 60 {'avg': array([113.99,  67.92,  23.04]), 'std': array([97.72425441, 54.4840674 , 20.23260735]), 'min': array([0., 0., 2.]), 'max': array([350., 238.,  88.])}\n",
      "Gen 61 {'avg': array([114.86,  66.02,  23.86]), 'std': array([95.87992699, 52.80397334, 21.53045285]), 'min': array([0., 0., 2.]), 'max': array([350., 238.,  88.])}\n",
      "Gen 62 {'avg': array([117.86,  68.23,  22.15]), 'std': array([101.22351703,  55.01233589,  20.31471142]), 'min': array([0., 0., 2.]), 'max': array([350., 238.,  79.])}\n",
      "Gen 63 {'avg': array([118.01,  67.9 ,  22.52]), 'std': array([103.02237572,  54.76376539,  21.26286904]), 'min': array([0., 0., 2.]), 'max': array([350., 238.,  83.])}\n",
      "Gen 64 {'avg': array([112.01,  71.34,  21.97]), 'std': array([101.54540807,  55.12625872,  20.31819628]), 'min': array([0., 0., 2.]), 'max': array([350., 238.,  83.])}\n",
      "Gen 65 {'avg': array([112.24,  70.81,  22.19]), 'std': array([102.09917923,  54.9568367 ,  19.98384097]), 'min': array([0., 0., 2.]), 'max': array([350., 238.,  83.])}\n",
      "Gen 66 {'avg': array([118.62,  65.28,  21.48]), 'std': array([100.46748529,  51.87139481,  19.26316693]), 'min': array([0., 0., 2.]), 'max': array([350., 238.,  83.])}\n",
      "Gen 67 {'avg': array([118.36,  66.2 ,  20.62]), 'std': array([100.16072284,  52.10239918,  17.98709537]), 'min': array([0., 0., 2.]), 'max': array([350., 238.,  83.])}\n",
      "Gen 68 {'avg': array([120.58,  64.81,  20.12]), 'std': array([100.17496494,  51.25811058,  18.7905721 ]), 'min': array([0., 0., 2.]), 'max': array([350., 238.,  81.])}\n",
      "Gen 69 {'avg': array([116.73,  67.73,  21.08]), 'std': array([101.0030549 ,  51.91702129,  18.8311869 ]), 'min': array([0., 0., 2.]), 'max': array([350., 238.,  81.])}\n",
      "Gen 70 {'avg': array([121.56,  68.8 ,  19.57]), 'std': array([103.57386929,  56.64185731,  18.26650213]), 'min': array([0., 0., 2.]), 'max': array([350., 238.,  81.])}\n",
      "Gen 71 {'avg': array([117.16,  65.63,  20.63]), 'std': array([98.4310642 , 50.67379106, 18.18936777]), 'min': array([0., 0., 2.]), 'max': array([350., 238.,  81.])}\n",
      "Gen 72 {'avg': array([117.32,  66.68,  20.56]), 'std': array([99.83264797, 51.88234382, 18.40886743]), 'min': array([0., 0., 2.]), 'max': array([350., 238.,  81.])}\n",
      "Gen 73 {'avg': array([117.98,  66.69,  21.5 ]), 'std': array([101.78290426,  53.82205775,  19.52562419]), 'min': array([0., 0., 2.]), 'max': array([350., 238.,  81.])}\n",
      "Gen 74 {'avg': array([116.64,  68.54,  20.09]), 'std': array([102.54418755,  54.67822601,  18.30797367]), 'min': array([0., 0., 2.]), 'max': array([350., 238.,  77.])}\n",
      "Gen 75 {'avg': array([115.15,  66.31,  20.51]), 'std': array([97.2074457 , 50.19137276, 18.52592508]), 'min': array([0., 0., 2.]), 'max': array([350., 238.,  77.])}\n",
      "Gen 76 {'avg': array([104.03,  73.  ,  20.52]), 'std': array([94.57647223, 52.76457145, 18.74165414]), 'min': array([0., 0., 2.]), 'max': array([350., 238.,  77.])}\n",
      "Gen 77 {'avg': array([115.47,  68.07,  21.11]), 'std': array([99.94973287, 53.58791935, 18.83926485]), 'min': array([0., 0., 2.]), 'max': array([350., 238.,  77.])}\n",
      "Gen 78 {'avg': array([114.01,  67.91,  20.03]), 'std': array([98.03157604, 53.5382284 , 18.20244764]), 'min': array([0., 0., 2.]), 'max': array([350., 238.,  77.])}\n",
      "Gen 79 {'avg': array([111.33,  68.27,  20.95]), 'std': array([99.45250676, 50.80016831, 18.39422464]), 'min': array([0., 0., 2.]), 'max': array([350., 238.,  81.])}\n",
      "Gen 80 {'avg': array([119.42,  63.74,  20.73]), 'std': array([98.61837354, 48.897775  , 18.98043993]), 'min': array([0., 0., 2.]), 'max': array([350., 238.,  81.])}\n",
      "Gen 81 {'avg': array([117.68,  66.52,  21.47]), 'std': array([103.06171743,  52.25006794,  19.25224922]), 'min': array([0., 0., 2.]), 'max': array([350., 238.,  81.])}\n",
      "Gen 82 {'avg': array([114.39,  66.09,  21.45]), 'std': array([99.38932488, 51.5982742 , 18.70955638]), 'min': array([0., 0., 2.]), 'max': array([350., 238.,  79.])}\n",
      "Gen 83 {'avg': array([117.76,  64.57,  19.35]), 'std': array([100.49817113,  48.68577924,  17.14081387]), 'min': array([0., 0., 2.]), 'max': array([350., 238.,  79.])}\n",
      "Gen 84 {'avg': array([118.36,  65.33,  21.2 ]), 'std': array([100.78278821,  52.16858346,  19.08716846]), 'min': array([0., 0., 2.]), 'max': array([350., 238.,  79.])}\n",
      "Gen 85 {'avg': array([113.47,  66.11,  20.79]), 'std': array([98.02504323, 51.54335942, 18.62057733]), 'min': array([0., 0., 2.]), 'max': array([350., 238.,  79.])}\n",
      "Gen 86 {'avg': array([111.29,  68.63,  19.8 ]), 'std': array([97.60003023, 51.89983719, 18.0088867 ]), 'min': array([0., 0., 2.]), 'max': array([350., 238.,  79.])}\n",
      "Gen 87 {'avg': array([116.73,  69.09,  18.31]), 'std': array([102.45719643,  55.80109228,  16.27986179]), 'min': array([0., 0., 2.]), 'max': array([350., 238.,  72.])}\n",
      "Gen 88 {'avg': array([119.4 ,  64.25,  19.32]), 'std': array([101.94743744,  51.19089274,  17.06744269]), 'min': array([0., 0., 2.]), 'max': array([350., 238.,  72.])}\n",
      "Gen 89 {'avg': array([114.71,  65.93,  20.19]), 'std': array([98.93910198, 49.50803066, 17.69954519]), 'min': array([0., 0., 2.]), 'max': array([350., 238.,  72.])}\n",
      "Gen 90 {'avg': array([118.95,  65.16,  20.26]), 'std': array([101.74117898,  52.26829249,  18.30334396]), 'min': array([0., 0., 2.]), 'max': array([350., 238.,  76.])}\n",
      "Gen 91 {'avg': array([114.48,  66.01,  21.39]), 'std': array([99.61631192, 51.60997869, 18.38199935]), 'min': array([0., 0., 2.]), 'max': array([350., 238.,  74.])}\n",
      "Gen 92 {'avg': array([113.3 ,  66.69,  21.05]), 'std': array([98.69564327, 52.04127112, 18.66567706]), 'min': array([0., 0., 2.]), 'max': array([350., 238.,  74.])}\n",
      "Gen 93 {'avg': array([112.56,  70.33,  20.17]), 'std': array([101.98306918,  53.19418295,  17.74770689]), 'min': array([0., 0., 2.]), 'max': array([350., 238.,  74.])}\n",
      "Gen 94 {'avg': array([101.78,  72.84,  20.26]), 'std': array([94.76070705, 53.03766963, 17.71136358]), 'min': array([0., 0., 2.]), 'max': array([350., 238.,  74.])}\n",
      "Gen 95 {'avg': array([112.44,  66.45,  21.23]), 'std': array([98.48708748, 49.2699452 , 19.27270349]), 'min': array([0., 0., 2.]), 'max': array([350., 238.,  74.])}\n",
      "Gen 96 {'avg': array([111.51,  69.85,  19.26]), 'std': array([99.68063954, 54.22792177, 17.26998552]), 'min': array([0., 0., 2.]), 'max': array([350., 238.,  74.])}\n",
      "Gen 97 {'avg': array([108.95,  70.69,  19.56]), 'std': array([100.58641807,  53.23526932,  18.15892067]), 'min': array([0., 0., 2.]), 'max': array([350., 238.,  79.])}\n",
      "Gen 98 {'avg': array([116.37,  66.81,  18.95]), 'std': array([103.68468113,  52.34208536,  16.85192867]), 'min': array([0., 0., 2.]), 'max': array([350., 238.,  74.])}\n",
      "Gen 99 {'avg': array([113.51,  67.12,  18.36]), 'std': array([98.90525719, 54.03355994, 15.78196439]), 'min': array([0., 0., 2.]), 'max': array([350., 238.,  74.])}\n",
      "Gen 100 {'avg': array([117.56,  64.08,  19.04]), 'std': array([99.26704589, 50.2308033 , 17.19064862]), 'min': array([0., 0., 2.]), 'max': array([350., 238.,  74.])}\n",
      "Gen 101 {'avg': array([114.44,  65.01,  20.75]), 'std': array([100.02702835,  49.78784892,  18.84429622]), 'min': array([0., 0., 2.]), 'max': array([350., 238.,  74.])}\n",
      "Gen 102 {'avg': array([109.46,  67.48,  20.38]), 'std': array([98.23425268, 51.39075403, 18.48987831]), 'min': array([0., 0., 2.]), 'max': array([350., 238.,  74.])}\n",
      "Gen 103 {'avg': array([113.27,  66.51,  20.91]), 'std': array([100.35904095,  51.97431962,  19.58575758]), 'min': array([0., 0., 2.]), 'max': array([350., 238.,  78.])}\n",
      "Gen 104 {'avg': array([107.45,  69.95,  19.39]), 'std': array([99.4988819 , 52.50778514, 17.25682184]), 'min': array([0., 0., 2.]), 'max': array([350., 238.,  74.])}\n",
      "Gen 105 {'avg': array([115.62,  66.38,  19.31]), 'std': array([101.22270299,  52.35299036,  16.86279633]), 'min': array([0., 0., 2.]), 'max': array([350., 238.,  74.])}\n",
      "Gen 106 {'avg': array([118.4 ,  65.39,  19.62]), 'std': array([101.23141805,  52.69533091,  18.1134094 ]), 'min': array([0., 0., 2.]), 'max': array([350., 238.,  74.])}\n",
      "Gen 107 {'avg': array([113.01,  67.31,  22.3 ]), 'std': array([101.56431411,  52.45258716,  19.12040795]), 'min': array([0., 0., 2.]), 'max': array([350., 238.,  78.])}\n",
      "Gen 108 {'avg': array([107.89,  68.01,  20.32]), 'std': array([94.96798355, 50.17559068, 18.4384815 ]), 'min': array([0., 0., 2.]), 'max': array([350., 238.,  78.])}\n",
      "Gen 109 {'avg': array([109.3 ,  67.96,  19.76]), 'std': array([96.92342338, 50.07792328, 18.13290931]), 'min': array([0., 0., 2.]), 'max': array([350., 238.,  78.])}\n",
      "Gen 110 {'avg': array([114.74,  66.79,  20.01]), 'std': array([101.43585362,  50.32400918,  18.31201518]), 'min': array([0., 0., 2.]), 'max': array([350., 238.,  78.])}\n",
      "Gen 111 {'avg': array([113.33,  66.11,  19.55]), 'std': array([100.22395472,  50.18722846,  18.16996147]), 'min': array([0., 0., 2.]), 'max': array([350., 238.,  78.])}\n",
      "Gen 112 {'avg': array([110.62,  65.97,  20.36]), 'std': array([96.39935477, 50.437378  , 18.09061635]), 'min': array([0., 0., 2.]), 'max': array([350., 238.,  80.])}\n",
      "Gen 113 {'avg': array([114.27,  66.  ,  19.42]), 'std': array([102.51583829,  50.39880951,  17.03536322]), 'min': array([0., 0., 2.]), 'max': array([350., 238.,  80.])}\n",
      "Gen 114 {'avg': array([108.22,  67.13,  19.6 ]), 'std': array([96.43013844, 48.78332809, 17.22614292]), 'min': array([0., 0., 2.]), 'max': array([350., 238.,  80.])}\n",
      "Gen 115 {'avg': array([115.41,  64.48,  18.04]), 'std': array([99.68230485, 49.28782405, 15.56914898]), 'min': array([0., 0., 2.]), 'max': array([350., 238.,  80.])}\n",
      "Gen 116 {'avg': array([106.66,  68.03,  20.18]), 'std': array([95.00002316, 50.05326263, 18.04293768]), 'min': array([0., 0., 2.]), 'max': array([350., 238.,  80.])}\n",
      "Gen 117 {'avg': array([112.27,  66.79,  19.99]), 'std': array([98.73326238, 50.01545661, 17.85244801]), 'min': array([0., 0., 2.]), 'max': array([350., 238.,  80.])}\n",
      "Gen 118 {'avg': array([122.81,  62.49,  19.88]), 'std': array([100.42426948,  51.277967  ,  18.61949516]), 'min': array([0., 0., 2.]), 'max': array([350., 238.,  80.])}\n",
      "Gen 119 {'avg': array([111.49,  66.6 ,  17.94]), 'std': array([97.46163296, 52.08301067, 15.90397435]), 'min': array([0., 0., 2.]), 'max': array([350., 238.,  77.])}\n",
      "Gen 120 {'avg': array([113.32,  62.26,  19.28]), 'std': array([95.89148867, 47.2113588 , 16.27026736]), 'min': array([0., 0., 2.]), 'max': array([350., 238.,  77.])}\n",
      "Gen 121 {'avg': array([115.83,  64.49,  17.03]), 'std': array([99.38773113, 48.51504818, 14.50962095]), 'min': array([0., 0., 2.]), 'max': array([350., 238.,  65.])}\n",
      "Gen 122 {'avg': array([105.85,  71.15,  16.37]), 'std': array([95.43095672, 53.44649193, 14.07171276]), 'min': array([0., 0., 2.]), 'max': array([350., 238.,  67.])}\n",
      "Gen 123 {'avg': array([109.05,  68.22,  16.23]), 'std': array([94.03333186, 50.30538341, 13.42151631]), 'min': array([0., 0., 2.]), 'max': array([350., 238.,  65.])}\n",
      "Gen 124 {'avg': array([111.57,  69.95,  15.94]), 'std': array([99.42959871, 53.69923184, 12.42241522]), 'min': array([0., 0., 2.]), 'max': array([350., 238.,  61.])}\n",
      "Gen 125 {'avg': array([109.01,  73.54,  15.16]), 'std': array([98.05574894, 56.69063768, 12.16200641]), 'min': array([0., 0., 2.]), 'max': array([350., 238.,  61.])}\n",
      "Gen 126 {'avg': array([105.62,  72.58,  15.46]), 'std': array([96.46644805, 53.26371748, 12.89683682]), 'min': array([0., 0., 2.]), 'max': array([350., 238.,  61.])}\n",
      "Gen 127 {'avg': array([107.57,  73.18,  16.39]), 'std': array([101.19182329,  55.52249634,  14.08821848]), 'min': array([0., 0., 2.]), 'max': array([350., 238.,  61.])}\n",
      "Gen 128 {'avg': array([111.38,  68.1 ,  17.04]), 'std': array([98.10940628, 50.84928711, 14.3637878 ]), 'min': array([0., 0., 2.]), 'max': array([350., 238.,  63.])}\n",
      "Gen 129 {'avg': array([111.44,  69.4 ,  16.95]), 'std': array([99.09402807, 52.63116947, 14.33971757]), 'min': array([0., 0., 2.]), 'max': array([350., 238.,  63.])}\n",
      "Gen 130 {'avg': array([112.66,  68.75,  17.06]), 'std': array([96.15281795, 52.06906471, 15.28909415]), 'min': array([0., 0., 2.]), 'max': array([350., 238.,  64.])}\n",
      "Gen 131 {'avg': array([108.33,  69.58,  17.73]), 'std': array([95.59352018, 52.05193176, 15.2045092 ]), 'min': array([0., 0., 2.]), 'max': array([350., 238.,  61.])}\n",
      "Gen 132 {'avg': array([116.53,  68.31,  17.29]), 'std': array([99.7192514 , 56.20937555, 14.60636505]), 'min': array([0., 0., 2.]), 'max': array([350., 238.,  61.])}\n",
      "Gen 133 {'avg': array([108.84,  68.9 ,  16.91]), 'std': array([96.13144335, 52.1703939 , 13.88675268]), 'min': array([0., 0., 2.]), 'max': array([350., 238.,  55.])}\n",
      "Gen 134 {'avg': array([108.98,  70.98,  15.91]), 'std': array([96.18721121, 54.64814361, 13.44254068]), 'min': array([0., 0., 2.]), 'max': array([350., 238.,  55.])}\n",
      "Gen 135 {'avg': array([115.65,  69.74,  16.52]), 'std': array([100.40222856,  57.49984696,  13.56206474]), 'min': array([0., 0., 2.]), 'max': array([350., 238.,  55.])}\n",
      "Gen 136 {'avg': array([113.67,  70.72,  16.48]), 'std': array([99.27376844, 57.71223094, 13.29622503]), 'min': array([0., 0., 2.]), 'max': array([350., 238.,  56.])}\n",
      "Gen 137 {'avg': array([116.63,  68.15,  17.43]), 'std': array([102.67732515,  53.53622605,  14.61660357]), 'min': array([0., 0., 2.]), 'max': array([350., 238.,  56.])}\n",
      "Gen 138 {'avg': array([112.82,  70.61,  15.27]), 'std': array([101.37725386,  56.91518163,  12.60385259]), 'min': array([0., 0., 2.]), 'max': array([350., 238.,  52.])}\n",
      "Gen 139 {'avg': array([110.65,  70.23,  16.8 ]), 'std': array([97.32300602, 56.67201338, 13.83907511]), 'min': array([0., 0., 2.]), 'max': array([350., 238.,  52.])}\n",
      "Gen 140 {'avg': array([114.84,  67.8 ,  16.33]), 'std': array([100.54667772,  53.10047081,  13.4855886 ]), 'min': array([0., 0., 2.]), 'max': array([350., 238.,  51.])}\n",
      "Gen 141 {'avg': array([119.69,  65.58,  15.7 ]), 'std': array([101.32518887,  53.33276291,  13.19583268]), 'min': array([0., 0., 2.]), 'max': array([350., 238.,  51.])}\n",
      "Gen 142 {'avg': array([110.57,  69.45,  14.6 ]), 'std': array([96.08509302, 53.3961375 , 12.03411816]), 'min': array([0., 0., 2.]), 'max': array([350., 238.,  51.])}\n",
      "Gen 143 {'avg': array([115.67,  68.09,  15.19]), 'std': array([101.07710473,  52.88385292,  12.60372564]), 'min': array([0., 0., 2.]), 'max': array([350., 238.,  51.])}\n",
      "Gen 144 {'avg': array([117.18,  69.61,  14.99]), 'std': array([104.18612   ,  55.54293744,  12.31624537]), 'min': array([0., 0., 2.]), 'max': array([350., 238.,  51.])}\n",
      "Gen 145 {'avg': array([113.84,  69.82,  15.17]), 'std': array([102.47123694,  54.26608149,  13.10271346]), 'min': array([0., 0., 2.]), 'max': array([350., 238.,  55.])}\n",
      "Gen 146 {'avg': array([115.21,  68.92,  15.08]), 'std': array([102.49949219,  53.94546876,  13.03815938]), 'min': array([0., 0., 2.]), 'max': array([350., 238.,  52.])}\n",
      "Gen 147 {'avg': array([113.08,  70.13,  15.43]), 'std': array([101.28945454,  53.62231905,  12.82205522]), 'min': array([0., 0., 2.]), 'max': array([350., 238.,  50.])}\n",
      "Gen 148 {'avg': array([116.39,  68.8 ,  15.32]), 'std': array([104.38562114,  53.47560191,  12.58163741]), 'min': array([0., 0., 2.]), 'max': array([350., 238.,  47.])}\n",
      "Gen 149 {'avg': array([116.43,  68.89,  15.19]), 'std': array([103.53629847,  52.29663373,  12.50815334]), 'min': array([0., 0., 2.]), 'max': array([350., 238.,  47.])}\n",
      "Gen 150 {'avg': array([113.93,  67.22,  17.34]), 'std': array([99.95571569, 50.93301091, 13.95293518]), 'min': array([0., 0., 2.]), 'max': array([350., 238.,  61.])}\n",
      "Best individual is logical_and(less(multiply(age_avg, pclass), age), sex), (0.0, 201.0, 7.0)\n"
     ]
    }
   ],
   "source": [
    "#gen = range(200)\n",
    "gen = range(150)\n",
    "numSelect = 100\n",
    "numOffspring = 900\n",
    "mutPb = 0.4\n",
    "crossoverPb = 0.6\n",
    "\n",
    "hof = tools.ParetoFront()\n",
    "stats = tools.Statistics(lambda ind: ind.fitness.values)\n",
    "stats.register(\"avg\", np.mean, axis=0)\n",
    "stats.register(\"std\", np.std, axis=0)\n",
    "stats.register(\"min\", np.min, axis=0)\n",
    "stats.register(\"max\", np.max, axis=0)\n",
    "\n",
    "pop = toolbox.population(n=numSelect)\n",
    "\n",
    "# Evaluate the entire population\n",
    "fitnesses = list(map(toolbox.evaluate, pop))\n",
    "# normalized_fitnesses = toolbox.normalize(fitnesses)\n",
    "for ind, fit in zip(pop, fitnesses):\n",
    "    ind.fitness.values = tuple(fit)\n",
    "\n",
    "hof.update(pop)\n",
    "print(stats.compile(pop))\n",
    "\n",
    "fpList = []\n",
    "npList = []\n",
    "\n",
    "for g in gen:\n",
    "    offspring = []\n",
    "    for i in range(numOffspring):\n",
    "        r = random.random()\n",
    "        if r < crossoverPb:\n",
    "            parent1, parent2 = toolbox.clone(random.choice(pop[::2])), toolbox.clone(random.choice(pop[1::2]))\n",
    "            parent1, _ = toolbox.mate(parent1, parent2)\n",
    "            del parent1.fitness.values\n",
    "            offspring.append(parent1)\n",
    "        elif r > 1 - mutPb:\n",
    "            mutant = toolbox.clone(random.choice(pop))\n",
    "            mutant = toolbox.mutate(mutant)[0]\n",
    "            del mutant.fitness.values\n",
    "            offspring.append(mutant)\n",
    "    while len(offspring) < numOffspring:\n",
    "        offspring.append(random.choice(pop))\n",
    "\n",
    "    #evaluate invalid-fitness individuals\n",
    "    invalid_ind = [ind for ind in offspring if not ind.fitness.valid]\n",
    "    fitnesses = list(map(toolbox.evaluate, invalid_ind))\n",
    "    # normalized_fitnesses = toolbox.normalize(fitnesses)\n",
    "    for ind, fit in zip(invalid_ind, fitnesses):\n",
    "        ind.fitness.values = tuple(fit)\n",
    "\n",
    "    hof.update(offspring)\n",
    "    pop[:] = toolbox.select(pop + offspring, numSelect)\n",
    "    curStats = stats.compile(pop)\n",
    "    fpList.append(curStats['avg'][0])\n",
    "    npList.append(curStats['avg'][1])\n",
    "    print(\"Gen\", g+1, stats.compile(pop))\n",
    "    # print(\"Generation:\", g+1)\n",
    "\n",
    "best_ind = tools.selBest(pop, 1)[0]\n",
    "print(\"Best individual is %s, %s\" % (best_ind, best_ind.fitness.values))\n",
    "    \n"
   ]
  },
  {
   "cell_type": "code",
   "execution_count": 27,
   "id": "e2f9624b-e712-4c69-b11c-a1af2c37e6a5",
   "metadata": {
    "ExecuteTime": {
     "end_time": "2025-02-11T04:53:10.552207Z",
     "start_time": "2025-02-11T04:53:10.483913Z"
    }
   },
   "outputs": [
    {
     "data": {
      "text/plain": "<Figure size 640x480 with 1 Axes>",
      "image/png": "[encoded data removed]"
     },
     "metadata": {},
     "output_type": "display_data"
    }
   ],
   "source": [
    "plt.plot(gen, fpList, label=\"average false positives\")\n",
    "plt.plot(gen, npList, label=\"average false negatives\")\n",
    "plt.xlabel(\"Generation\")\n",
    "plt.ylabel(\"Fitness\")\n",
    "plt.legend(loc=\"upper right\")\n",
    "plt.show()"
   ]
  },
  {
   "cell_type": "code",
   "execution_count": 28,
   "id": "0f77311b-f096-4099-88c9-83a2eddd3104",
   "metadata": {
    "ExecuteTime": {
     "end_time": "2025-02-11T04:53:12.478485Z",
     "start_time": "2025-02-11T04:53:12.377089Z"
    }
   },
   "outputs": [
    {
     "data": {
      "text/plain": "<Figure size 640x480 with 1 Axes>",
      "image/png": "[encoded data removed]"
     },
     "metadata": {},
     "output_type": "display_data"
    },
    {
     "name": "stdout",
     "output_type": "stream",
     "text": [
      "Area Under Curve: 12013.0\n"
     ]
    }
   ],
   "source": [
    "hof_new = tools.ParetoFront()\n",
    "\n",
    "pop_fpnp = []\n",
    "for ind in pop:\n",
    "    ind_clone = toolbox.clone(ind)\n",
    "    ind_clone.fitness.weights = ind_clone.fitness.weights[0:2]\n",
    "    ind_clone.fitness.values = ind_clone.fitness.values[0:2]\n",
    "    pop_fpnp.append(ind_clone)\n",
    "\n",
    "hof_new.update(pop_fpnp)\n",
    "\n",
    "\"\"\"Split fitness values into separate lists\"\"\"\n",
    "fitness_1 = [ind.fitness.values[0] for ind in hof_new]\n",
    "fitness_2 = [ind.fitness.values[1] for ind in hof_new]\n",
    "pop_1 = [ind.fitness.values[0] for ind in pop]\n",
    "pop_2 = [ind.fitness.values[1] for ind in pop]\n",
    "\n",
    "'''Print dominated population for debugging'''\n",
    "# for ind in pop:\n",
    "#     print(ind.fitness)\n",
    "\n",
    "plt.scatter(pop_1, pop_2, color='b')\n",
    "plt.scatter(fitness_1, fitness_2, color='r')\n",
    "plt.plot(fitness_1, fitness_2, color='r', drawstyle='steps-post')\n",
    "plt.xlabel(\"False positives\")\n",
    "plt.ylabel(\"False negatives\")\n",
    "plt.title(\"Pareto Front\")\n",
    "plt.show()\n",
    "\n",
    "f1 = np.array(fitness_1)\n",
    "f2 = np.array(fitness_2)\n",
    "\n",
    "\"\"\"Calculate area under curve with least squares method\"\"\"\n",
    "print(\"Area Under Curve: %s\" % (np.sum(np.abs(np.diff(f1))*f2[:-1])))"
   ]
  },
  {
   "cell_type": "code",
   "execution_count": 29,
   "id": "79cbe008-d951-4e5f-ba4b-ffbbc3a37abf",
   "metadata": {
    "ExecuteTime": {
     "end_time": "2025-02-11T04:53:27.356852Z",
     "start_time": "2025-02-11T04:53:27.343817Z"
    }
   },
   "outputs": [
    {
     "name": "stdout",
     "output_type": "stream",
     "text": [
      "(41.0, 64.0, 39.0)\n",
      "logical_and(logical_or(logical_or(less(subtract(fare_avg, multiply(add(bool_to_float(sex), age_avg), subtract(age_avg, multiply(age, pclass)))), pclass), sex), sex), float_to_bool(subtract(subtract(fare, subtract(add(pclass, sibsp), subtract(add(add(sibsp, fare_avg), fare), age))), multiply(sibsp, multiply(parch, age_avg)))))\n"
     ]
    },
    {
     "ename": "TypeError",
     "evalue": "<lambda>() takes 9 positional arguments but 10 were given",
     "output_type": "error",
     "traceback": [
      "\u001B[0;31m---------------------------------------------------------------------------\u001B[0m",
      "\u001B[0;31mTypeError\u001B[0m                                 Traceback (most recent call last)",
      "Cell \u001B[0;32mIn[29], line 9\u001B[0m\n\u001B[1;32m      6\u001B[0m \u001B[38;5;28mprint\u001B[39m(best)\n\u001B[1;32m      8\u001B[0m func \u001B[38;5;241m=\u001B[39m gp\u001B[38;5;241m.\u001B[39mcompile(expr\u001B[38;5;241m=\u001B[39mbest, pset\u001B[38;5;241m=\u001B[39mpset)\n\u001B[0;32m----> 9\u001B[0m predictions \u001B[38;5;241m=\u001B[39m [\u001B[38;5;28mint\u001B[39m(func(\u001B[38;5;241m*\u001B[39mx)) \u001B[38;5;28;01mfor\u001B[39;00m x \u001B[38;5;129;01min\u001B[39;00m test_data\u001B[38;5;241m.\u001B[39mvalues]\n\u001B[1;32m     11\u001B[0m pred_df \u001B[38;5;241m=\u001B[39m pd\u001B[38;5;241m.\u001B[39mDataFrame(predictions, index\u001B[38;5;241m=\u001B[39mtest_data\u001B[38;5;241m.\u001B[39mindex, columns\u001B[38;5;241m=\u001B[39m[\u001B[38;5;124m'\u001B[39m\u001B[38;5;124mSurvived\u001B[39m\u001B[38;5;124m'\u001B[39m])\n\u001B[1;32m     12\u001B[0m \u001B[38;5;28mtype\u001B[39m(pred_df)\n",
      "\u001B[0;31mTypeError\u001B[0m: <lambda>() takes 9 positional arguments but 10 were given"
     ]
    }
   ],
   "source": [
    "\n",
    "best = pop[0]\n",
    "for ind in pop:\n",
    "    if best.fitness.values[0] + best.fitness.values[1] > ind.fitness.values[0] + ind.fitness.values[1]:\n",
    "        best= ind\n",
    "print(best.fitness.values)\n",
    "print(best)\n",
    "\n",
    "func = gp.compile(expr=best, pset=pset)\n",
    "predictions = [int(func(*x)) for x in test_data.values]\n",
    "\n",
    "pred_df = pd.DataFrame(predictions, index=test_data.index, columns=['Survived'])\n",
    "type(pred_df)\n",
    "pred_df\n",
    "pred_df.to_csv('predictions.csv', header=True, sep=',')"
   ]
  },
  {
   "cell_type": "code",
   "outputs": [],
   "source": [],
   "metadata": {
    "collapsed": false
   },
   "id": "c6020eeba9c8e24e"
  }
 ],
 "metadata": {
  "kernelspec": {
   "display_name": "titanic-venv",
   "language": "python",
   "name": "python3"
  },
  "language_info": {
   "codemirror_mode": {
    "name": "ipython",
    "version": 3
   },
   "file_extension": ".py",
   "mimetype": "text/x-python",
   "name": "python",
   "nbconvert_exporter": "python",
   "pygments_lexer": "ipython3",
   "version": "3.12.5"
  }
 },
 "nbformat": 4,
 "nbformat_minor": 5
}
