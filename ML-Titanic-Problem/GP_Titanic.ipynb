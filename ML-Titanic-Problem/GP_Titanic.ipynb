{
 "cells": [
  {
   "cell_type": "code",
   "outputs": [],
   "source": [
    "import random\n",
    "import operator\n",
    "\n",
    "import numpy as np\n",
    "import matplotlib.pyplot as plt\n",
    "\n",
    "from deap import algorithms\n",
    "from deap import base\n",
    "from deap import creator\n",
    "from deap import tools\n",
    "from deap import gp\n",
    "\n",
    "import pandas as pd\n",
    "\n",
    "from sklearn.impute import KNNImputer\n",
    "from sklearn.model_selection import train_test_split\n",
    "\n",
    "import math"
   ],
   "metadata": {
    "collapsed": false,
    "ExecuteTime": {
     "end_time": "2025-02-11T05:04:17.191074Z",
     "start_time": "2025-02-11T05:04:16.081701Z"
    }
   },
   "id": "dcdfa3ce8715640d",
   "execution_count": 2
  },
  {
   "cell_type": "code",
   "outputs": [],
   "source": [
    "# will minimize fp's, fn's, tree depth, and inaccuracy\n",
    "# fitness will be tuple: (fp's, fn's, tree depth, inaccuracy)\n",
    "\n",
    "creator.create(\"FitnessMin\", base.Fitness, weights=(-1.0,-1.0,-0.5))\n",
    "creator.create(\"Individual\", gp.PrimitiveTree, fitness=creator.FitnessMin)"
   ],
   "metadata": {
    "collapsed": false,
    "ExecuteTime": {
     "end_time": "2025-02-11T05:04:17.788199Z",
     "start_time": "2025-02-11T05:04:17.785276Z"
    }
   },
   "id": "54da67c96f889856",
   "execution_count": 3
  },
  {
   "cell_type": "code",
   "outputs": [],
   "source": [
    "# load data\n",
    "train_data = pd.read_csv('train.csv')\n",
    "test_data = pd.read_csv('test.csv')"
   ],
   "metadata": {
    "collapsed": false,
    "ExecuteTime": {
     "end_time": "2025-02-11T05:04:18.476818Z",
     "start_time": "2025-02-11T05:04:18.465393Z"
    }
   },
   "id": "2c699da513a9d4ce",
   "execution_count": 4
  },
  {
   "cell_type": "code",
   "outputs": [
    {
     "name": "stderr",
     "output_type": "stream",
     "text": [
      "/var/folders/21/k1c5gbs95m14xwrmrbkjd2680000gn/T/ipykernel_18429/1101249441.py:21: FutureWarning: Downcasting behavior in `replace` is deprecated and will be removed in a future version. To retain the old behavior, explicitly call `result.infer_objects(copy=False)`. To opt-in to the future behavior, set `pd.set_option('future.no_silent_downcasting', True)`\n",
      "  train_data.replace(columns_map, inplace=True)\n",
      "/var/folders/21/k1c5gbs95m14xwrmrbkjd2680000gn/T/ipykernel_18429/1101249441.py:22: FutureWarning: Downcasting behavior in `replace` is deprecated and will be removed in a future version. To retain the old behavior, explicitly call `result.infer_objects(copy=False)`. To opt-in to the future behavior, set `pd.set_option('future.no_silent_downcasting', True)`\n",
      "  test_data.replace(columns_map, inplace=True)\n"
     ]
    }
   ],
   "source": [
    "# preprocess data\n",
    "\n",
    "train_data.drop(columns=['Name', 'Ticket', 'Cabin'], inplace=True)\n",
    "train_data.set_index(keys=['PassengerId'], drop=True, inplace=True)\n",
    "\n",
    "test_data.drop(columns=['Name', 'Ticket', 'Cabin'], inplace=True)\n",
    "test_data.set_index(keys=['PassengerId'], drop=True, inplace=True)\n",
    "\n",
    "train_nan_map = {'Age': train_data['Age'].mean(), 'Fare': train_data['Fare'].mean(), 'Embarked': train_data['Embarked'].mode()[0]}\n",
    "test_nan_map = {'Age': test_data['Age'].mean(), 'Fare': test_data['Fare'].mean(), 'Embarked': test_data['Embarked'].mode()[0]}\n",
    "\n",
    "train_data.fillna(value=train_nan_map, inplace=True)\n",
    "test_data.fillna(value=test_nan_map, inplace=True)\n",
    "\n",
    "train_data = pd.get_dummies(train_data, columns=['Embarked'], dtype=int)\n",
    "test_data = pd.get_dummies(test_data, columns=['Embarked'], dtype=int)\n",
    "\n",
    "train_data, test_data = train_data.align(test_data, join='left', axis=1, fill_value=0)\n",
    "\n",
    "columns_map = {'Sex': {'male': 0, 'female': 1}}\n",
    "train_data.replace(columns_map, inplace=True)\n",
    "test_data.replace(columns_map, inplace=True)\n",
    "\n",
    "X_train = train_data.loc[:, train_data.columns != 'Survived']\n",
    "y_train = train_data.loc[:, 'Survived']\n",
    "\n",
    "x_train, x_test, y_train, y_test = train_test_split(X_train, y_train, test_size=0.33, random_state=10)"
   ],
   "metadata": {
    "collapsed": false,
    "ExecuteTime": {
     "end_time": "2025-02-11T05:04:19.269776Z",
     "start_time": "2025-02-11T05:04:19.257229Z"
    }
   },
   "id": "65de1881dec47e96",
   "execution_count": 5
  },
  {
   "cell_type": "code",
   "outputs": [
    {
     "data": {
      "text/plain": "             Survived  Pclass  Sex   Age  SibSp  Parch     Fare  Embarked_C  \\\nPassengerId                                                                   \n1                   0       3    0  22.0      1      0   7.2500           0   \n2                   1       1    1  38.0      1      0  71.2833           1   \n3                   1       3    1  26.0      0      0   7.9250           0   \n4                   1       1    1  35.0      1      0  53.1000           0   \n5                   0       3    0  35.0      0      0   8.0500           0   \n\n             Embarked_Q  Embarked_S  \nPassengerId                          \n1                     0           1  \n2                     0           0  \n3                     0           1  \n4                     0           1  \n5                     0           1  ",
      "text/html": "<div>\n<style scoped>\n    .dataframe tbody tr th:only-of-type {\n        vertical-align: middle;\n    }\n\n    .dataframe tbody tr th {\n        vertical-align: top;\n    }\n\n    .dataframe thead th {\n        text-align: right;\n    }\n</style>\n<table border=\"1\" class=\"dataframe\">\n  <thead>\n    <tr style=\"text-align: right;\">\n      <th></th>\n      <th>Survived</th>\n      <th>Pclass</th>\n      <th>Sex</th>\n      <th>Age</th>\n      <th>SibSp</th>\n      <th>Parch</th>\n      <th>Fare</th>\n      <th>Embarked_C</th>\n      <th>Embarked_Q</th>\n      <th>Embarked_S</th>\n    </tr>\n    <tr>\n      <th>PassengerId</th>\n      <th></th>\n      <th></th>\n      <th></th>\n      <th></th>\n      <th></th>\n      <th></th>\n      <th></th>\n      <th></th>\n      <th></th>\n      <th></th>\n    </tr>\n  </thead>\n  <tbody>\n    <tr>\n      <th>1</th>\n      <td>0</td>\n      <td>3</td>\n      <td>0</td>\n      <td>22.0</td>\n      <td>1</td>\n      <td>0</td>\n      <td>7.2500</td>\n      <td>0</td>\n      <td>0</td>\n      <td>1</td>\n    </tr>\n    <tr>\n      <th>2</th>\n      <td>1</td>\n      <td>1</td>\n      <td>1</td>\n      <td>38.0</td>\n      <td>1</td>\n      <td>0</td>\n      <td>71.2833</td>\n      <td>1</td>\n      <td>0</td>\n      <td>0</td>\n    </tr>\n    <tr>\n      <th>3</th>\n      <td>1</td>\n      <td>3</td>\n      <td>1</td>\n      <td>26.0</td>\n      <td>0</td>\n      <td>0</td>\n      <td>7.9250</td>\n      <td>0</td>\n      <td>0</td>\n      <td>1</td>\n    </tr>\n    <tr>\n      <th>4</th>\n      <td>1</td>\n      <td>1</td>\n      <td>1</td>\n      <td>35.0</td>\n      <td>1</td>\n      <td>0</td>\n      <td>53.1000</td>\n      <td>0</td>\n      <td>0</td>\n      <td>1</td>\n    </tr>\n    <tr>\n      <th>5</th>\n      <td>0</td>\n      <td>3</td>\n      <td>0</td>\n      <td>35.0</td>\n      <td>0</td>\n      <td>0</td>\n      <td>8.0500</td>\n      <td>0</td>\n      <td>0</td>\n      <td>1</td>\n    </tr>\n  </tbody>\n</table>\n</div>"
     },
     "execution_count": 6,
     "metadata": {},
     "output_type": "execute_result"
    }
   ],
   "source": [
    "train_data.head()"
   ],
   "metadata": {
    "collapsed": false,
    "ExecuteTime": {
     "end_time": "2025-02-11T05:04:22.390282Z",
     "start_time": "2025-02-11T05:04:22.379038Z"
    }
   },
   "id": "cadbe117bf0bffdd",
   "execution_count": 6
  },
  {
   "cell_type": "code",
   "outputs": [
    {
     "data": {
      "text/plain": "             Survived  Pclass  Sex   Age  SibSp  Parch     Fare  Embarked_C  \\\nPassengerId                                                                   \n892                 0       3    0  34.5      0      0   7.8292           0   \n893                 0       3    1  47.0      1      0   7.0000           0   \n894                 0       2    0  62.0      0      0   9.6875           0   \n895                 0       3    0  27.0      0      0   8.6625           0   \n896                 0       3    1  22.0      1      1  12.2875           0   \n\n             Embarked_Q  Embarked_S  \nPassengerId                          \n892                   1           0  \n893                   0           1  \n894                   1           0  \n895                   0           1  \n896                   0           1  ",
      "text/html": "<div>\n<style scoped>\n    .dataframe tbody tr th:only-of-type {\n        vertical-align: middle;\n    }\n\n    .dataframe tbody tr th {\n        vertical-align: top;\n    }\n\n    .dataframe thead th {\n        text-align: right;\n    }\n</style>\n<table border=\"1\" class=\"dataframe\">\n  <thead>\n    <tr style=\"text-align: right;\">\n      <th></th>\n      <th>Survived</th>\n      <th>Pclass</th>\n      <th>Sex</th>\n      <th>Age</th>\n      <th>SibSp</th>\n      <th>Parch</th>\n      <th>Fare</th>\n      <th>Embarked_C</th>\n      <th>Embarked_Q</th>\n      <th>Embarked_S</th>\n    </tr>\n    <tr>\n      <th>PassengerId</th>\n      <th></th>\n      <th></th>\n      <th></th>\n      <th></th>\n      <th></th>\n      <th></th>\n      <th></th>\n      <th></th>\n      <th></th>\n      <th></th>\n    </tr>\n  </thead>\n  <tbody>\n    <tr>\n      <th>892</th>\n      <td>0</td>\n      <td>3</td>\n      <td>0</td>\n      <td>34.5</td>\n      <td>0</td>\n      <td>0</td>\n      <td>7.8292</td>\n      <td>0</td>\n      <td>1</td>\n      <td>0</td>\n    </tr>\n    <tr>\n      <th>893</th>\n      <td>0</td>\n      <td>3</td>\n      <td>1</td>\n      <td>47.0</td>\n      <td>1</td>\n      <td>0</td>\n      <td>7.0000</td>\n      <td>0</td>\n      <td>0</td>\n      <td>1</td>\n    </tr>\n    <tr>\n      <th>894</th>\n      <td>0</td>\n      <td>2</td>\n      <td>0</td>\n      <td>62.0</td>\n      <td>0</td>\n      <td>0</td>\n      <td>9.6875</td>\n      <td>0</td>\n      <td>1</td>\n      <td>0</td>\n    </tr>\n    <tr>\n      <th>895</th>\n      <td>0</td>\n      <td>3</td>\n      <td>0</td>\n      <td>27.0</td>\n      <td>0</td>\n      <td>0</td>\n      <td>8.6625</td>\n      <td>0</td>\n      <td>0</td>\n      <td>1</td>\n    </tr>\n    <tr>\n      <th>896</th>\n      <td>0</td>\n      <td>3</td>\n      <td>1</td>\n      <td>22.0</td>\n      <td>1</td>\n      <td>1</td>\n      <td>12.2875</td>\n      <td>0</td>\n      <td>0</td>\n      <td>1</td>\n    </tr>\n  </tbody>\n</table>\n</div>"
     },
     "execution_count": 7,
     "metadata": {},
     "output_type": "execute_result"
    }
   ],
   "source": [
    "test_data.head()"
   ],
   "metadata": {
    "collapsed": false,
    "ExecuteTime": {
     "end_time": "2025-02-11T05:04:23.402347Z",
     "start_time": "2025-02-11T05:04:23.394498Z"
    }
   },
   "id": "d5daef62fb363d99",
   "execution_count": 7
  },
  {
   "cell_type": "code",
   "outputs": [
    {
     "name": "stdout",
     "output_type": "stream",
     "text": [
      "Age     0.42\n",
      "Fare    0.00\n",
      "dtype: float64 Age      80.0000\n",
      "Fare    512.3292\n",
      "dtype: float64 29.87112761547572 33.48298288590604 67.94471452822741\n"
     ]
    }
   ],
   "source": [
    "test_data.head()\n",
    "# section to compute terminals\n",
    "# features: sex, age, sibsp, parch, ticket, fare, embarked\n",
    "# types: int, bool, float, int, int, int, float, int\n",
    "\n",
    "min_data = x_train[['Age', 'Fare']].min(axis=0)\n",
    "max_data = x_train[['Age', 'Fare']].max(axis=0)\n",
    "\n",
    "age_avg = np.average(x_train.loc[:, 'Age'])\n",
    "fare_avg = np.average(x_train.loc[:, 'Fare'])\n",
    "row_sums = x_train.sum(axis=1)\n",
    "feature_sum_avg = np.average(row_sums)\n",
    "print(min_data, max_data, age_avg, fare_avg, feature_sum_avg)"
   ],
   "metadata": {
    "collapsed": false,
    "ExecuteTime": {
     "end_time": "2025-02-11T05:04:30.951293Z",
     "start_time": "2025-02-11T05:04:30.943475Z"
    }
   },
   "id": "983402899e99b379",
   "execution_count": 8
  },
  {
   "cell_type": "code",
   "outputs": [],
   "source": [
    "random.seed(50)\n",
    "\n",
    "# funcion to convert float to bool\n",
    "def float_to_bool(x: float) -> bool:\n",
    "    if x > 0:\n",
    "        return True\n",
    "    else:\n",
    "        return False\n",
    "def bool_to_float(x):\n",
    "    return float(1 if x else 0)\n",
    "\n",
    "# add primitives to typed primitive set\n",
    "# using typed set to ensure boolean output\n",
    "# we have 9 inputs, of types:\n",
    "in_types = [float, bool, float, float, float, float, bool, bool, bool]\n",
    "#in_types = [float, bool, float, float, float, float, float, float]\n",
    "pset = gp.PrimitiveSetTyped(\"MAIN\", in_types, bool)\n",
    "pset.addPrimitive(np.add, [float, float], float)\n",
    "pset.addPrimitive(np.subtract, [float, float], float)     # TODO: might need to change all inputs to be floats...\n",
    "pset.addPrimitive(np.multiply, [float, float], float)\n",
    "pset.addPrimitive(np.negative, [float], float)\n",
    "pset.addPrimitive(np.greater, [float, float], bool)\n",
    "pset.addPrimitive(np.less, [float, float], bool)\n",
    "pset.addPrimitive(np.logical_or, [bool, bool], bool)\n",
    "pset.addPrimitive(np.logical_and, [bool, bool], bool)\n",
    "pset.addPrimitive(np.logical_not, [bool], bool)\n",
    "\n",
    "pset.addPrimitive(float_to_bool, [float], bool)\n",
    "pset.addPrimitive(bool_to_float, [bool], float)\n",
    "# add terminals\n",
    "pset.addTerminal(age_avg, float, name='age_avg')\n",
    "pset.addTerminal(fare_avg, float, name='fare_avg')\n",
    "pset.addTerminal(feature_sum_avg, float, name='feature_sum_avg')\n",
    "\n",
    "\n",
    "# rename 9 inputs\n",
    "pset.renameArguments(ARG0='pclass')\n",
    "pset.renameArguments(ARG1='sex')\n",
    "pset.renameArguments(ARG2='age')\n",
    "pset.renameArguments(ARG3='sibsp')\n",
    "pset.renameArguments(ARG4='parch')\n",
    "pset.renameArguments(ARG5='fare')\n",
    "pset.renameArguments(ARG6='embarked_C')\n",
    "pset.renameArguments(ARG7='embarked_S')\n",
    "pset.renameArguments(ARG8='embarked_Q')\n",
    "\n",
    "toolbox = base.Toolbox()\n",
    "toolbox.register(\"expr\", gp.genHalfAndHalf, pset=pset, min_=6, max_=10)\n",
    "toolbox.register(\"individual\", tools.initIterate, creator.Individual, toolbox.expr)\n",
    "toolbox.register(\"population\", tools.initRepeat, list, toolbox.individual)\n",
    "toolbox.register(\"compile\", gp.compile, pset=pset)\n"
   ],
   "metadata": {
    "collapsed": false,
    "ExecuteTime": {
     "end_time": "2025-02-11T05:04:35.632990Z",
     "start_time": "2025-02-11T05:04:35.625603Z"
    }
   },
   "id": "bc0d9d27f236938",
   "execution_count": 9
  },
  {
   "cell_type": "code",
   "outputs": [],
   "source": [
    "def evalIndividual(individual, x_values, y_values, pset, *args, **kwargs):\n",
    "    func = gp.compile(expr=individual, pset=pset)\n",
    "\n",
    "    y_pred = [func(*x) for x in x_values]\n",
    "\n",
    "    y_values = np.array(y_values)\n",
    "    y_pred = np.array(y_pred, dtype=bool)\n",
    "\n",
    "    fps = np.sum((y_values == 0) & (y_pred == True))\n",
    "    fns = np.sum((y_values == 1) & (y_pred == False))\n",
    "    \n",
    "    return (fps, fns, len(individual))\n",
    "\n",
    "x_train = x_train.values.tolist()\n",
    "y_train = y_train.values.tolist()\n",
    "toolbox.register(\"evaluate\", evalIndividual, x_values=x_train, y_values=y_train, pset=pset)\n",
    "toolbox.register(\"select\", tools.selNSGA3, ref_points=tools.uniform_reference_points(nobj=3, p=10), nd='standard', return_memory=False)\n",
    "toolbox.register(\"mate\", gp.cxOnePoint)\n",
    "toolbox.register(\"expr_mut\", gp.genFull, min_=0, max_=8)\n",
    "\n",
    "def mutCustom(ind, expr, pset):\n",
    "    if random.random() < 0.5:\n",
    "        return gp.mutInsert(gp.mutInsert(ind, pset)[0], pset)\n",
    "    else:\n",
    "        return gp.mutShrink(gp.mutShrink(ind)[0])\n",
    "\n",
    "toolbox.register(\"mutate\", mutCustom, expr=toolbox.expr_mut, pset=pset)\n",
    "toolbox.register(\"mutate_node\", gp.mutNodeReplacement, pset=pset)\n",
    "\n",
    "toolbox.decorate(\"mate\", gp.staticLimit(key=operator.attrgetter(\"height\"), max_value=9))\n",
    "toolbox.decorate(\"mutate\", gp.staticLimit(key=operator.attrgetter(\"height\"), max_value=9))\n",
    "toolbox.decorate(\"mutate_node\", gp.staticLimit(key=operator.attrgetter(\"height\"), max_value=9))"
   ],
   "metadata": {
    "collapsed": false,
    "ExecuteTime": {
     "end_time": "2025-02-11T05:04:36.808094Z",
     "start_time": "2025-02-11T05:04:36.800530Z"
    }
   },
   "id": "c75092bd9bd9088e",
   "execution_count": 10
  },
  {
   "cell_type": "code",
   "outputs": [
    {
     "name": "stdout",
     "output_type": "stream",
     "text": [
      "{'avg': array([187.3 , 108.51,  88.19]), 'std': array([161.36626041, 102.71080712,  83.99496354]), 'min': array([ 0.,  0., 12.]), 'max': array([358., 238., 492.])}\n",
      "Gen 1 {'avg': array([181.22,  91.33,  49.75]), 'std': array([138.44945504,  76.60914502,  41.77208996]), 'min': array([0., 0., 2.]), 'max': array([358., 238., 204.])}\n",
      "Gen 2 {'avg': array([128.8 , 118.99,  38.25]), 'std': array([133.25531884,  79.8887345 ,  42.95611132]), 'min': array([0., 0., 2.]), 'max': array([350., 238., 166.])}\n",
      "Gen 3 {'avg': array([135.92, 102.02,  39.91]), 'std': array([133.58245993,  77.59522923,  46.69798604]), 'min': array([0., 0., 2.]), 'max': array([350., 238., 163.])}\n",
      "Gen 4 {'avg': array([116.28, 101.84,  40.05]), 'std': array([120.20042263,  72.54484406,  44.40436352]), 'min': array([0., 0., 2.]), 'max': array([350., 238., 166.])}\n",
      "Gen 5 {'avg': array([127.92,  91.43,  37.1 ]), 'std': array([121.10117093,  67.62385008,  40.26474885]), 'min': array([0., 0., 2.]), 'max': array([350., 238., 154.])}\n",
      "Gen 6 {'avg': array([132.56,  81.9 ,  33.55]), 'std': array([123.1487978 ,  63.70769184,  40.6544893 ]), 'min': array([0., 0., 2.]), 'max': array([350., 238., 158.])}\n",
      "Gen 7 {'avg': array([115.37,  83.92,  33.33]), 'std': array([113.24854569,  60.32373994,  39.17526133]), 'min': array([0., 0., 2.]), 'max': array([350., 238., 161.])}\n",
      "Gen 8 {'avg': array([113.39,  85.03,  27.46]), 'std': array([109.2647148 ,  61.52096472,  32.86621974]), 'min': array([0., 0., 2.]), 'max': array([350., 238., 152.])}\n",
      "Gen 9 {'avg': array([109.39,  86.59,  28.65]), 'std': array([109.42521602,  60.48885765,  33.60517073]), 'min': array([0., 0., 2.]), 'max': array([350., 238., 156.])}\n",
      "Gen 10 {'avg': array([108.68,  82.82,  30.13]), 'std': array([107.85387151,  57.3210921 ,  37.19049744]), 'min': array([0., 0., 2.]), 'max': array([350., 238., 160.])}\n",
      "Gen 11 {'avg': array([109.85,  79.55,  29.82]), 'std': array([106.25548221,  54.8777505 ,  35.6382884 ]), 'min': array([0., 0., 2.]), 'max': array([350., 238., 160.])}\n",
      "Gen 12 {'avg': array([107.8 ,  80.83,  28.48]), 'std': array([105.63162405,  56.18684099,  32.45688833]), 'min': array([0., 0., 2.]), 'max': array([350., 238., 152.])}\n",
      "Gen 13 {'avg': array([113.86,  79.47,  24.43]), 'std': array([109.38345579,  56.80923428,  28.50657994]), 'min': array([0., 0., 2.]), 'max': array([350., 238., 144.])}\n",
      "Gen 14 {'avg': array([107.78,  79.93,  25.5 ]), 'std': array([104.75567574,  57.64447155,  26.191029  ]), 'min': array([0., 0., 2.]), 'max': array([350., 238., 140.])}\n",
      "Gen 15 {'avg': array([123.05,  72.38,  23.04]), 'std': array([110.22761678,  53.98643904,  23.54906368]), 'min': array([0., 0., 2.]), 'max': array([350., 238., 128.])}\n",
      "Gen 16 {'avg': array([116.33,  77.22,  23.92]), 'std': array([109.75527823,  56.79094646,  22.84936761]), 'min': array([0., 0., 2.]), 'max': array([350., 238., 106.])}\n",
      "Gen 17 {'avg': array([119.51,  74.34,  23.79]), 'std': array([108.44920424,  55.54731677,  22.3003565 ]), 'min': array([0., 0., 2.]), 'max': array([350., 238., 105.])}\n",
      "Gen 18 {'avg': array([121.17,  74.72,  24.16]), 'std': array([110.36929419,  56.58075291,  22.01940962]), 'min': array([0., 0., 2.]), 'max': array([350., 238., 102.])}\n",
      "Gen 19 {'avg': array([122.81,  73.72,  22.76]), 'std': array([109.46677076,  55.66903628,  20.81735814]), 'min': array([0., 0., 2.]), 'max': array([350., 238.,  94.])}\n",
      "Gen 20 {'avg': array([119.15,  72.11,  22.82]), 'std': array([104.29759106,  54.60529187,  20.58221562]), 'min': array([0., 0., 2.]), 'max': array([350., 238.,  94.])}\n",
      "Gen 21 {'avg': array([120.47,  71.5 ,  23.18]), 'std': array([106.80444326,  53.27203769,  21.05534611]), 'min': array([0., 0., 2.]), 'max': array([350., 238.,  97.])}\n",
      "Gen 22 {'avg': array([118.1 ,  71.67,  20.2 ]), 'std': array([103.55843761,  53.40450449,  18.04882268]), 'min': array([0., 0., 2.]), 'max': array([350., 238.,  93.])}\n",
      "Gen 23 {'avg': array([118.76,  72.76,  20.  ]), 'std': array([106.13002591,  54.0688672 ,  18.64617923]), 'min': array([0., 0., 2.]), 'max': array([350., 238.,  93.])}\n",
      "Gen 24 {'avg': array([119.98,  71.74,  20.49]), 'std': array([106.71372733,  52.71652872,  19.61810134]), 'min': array([0., 0., 2.]), 'max': array([350., 238.,  97.])}\n",
      "Gen 25 {'avg': array([115.95,  76.27,  20.77]), 'std': array([108.33571664,  56.59873762,  20.81194609]), 'min': array([0., 0., 2.]), 'max': array([350., 238.,  96.])}\n",
      "Gen 26 {'avg': array([115.86,  73.24,  19.8 ]), 'std': array([104.64186734,  53.65559058,  18.97840878]), 'min': array([0., 0., 2.]), 'max': array([350., 238.,  90.])}\n",
      "Gen 27 {'avg': array([115.34,  75.13,  21.19]), 'std': array([107.97436918,  54.78186835,  20.08566404]), 'min': array([0., 0., 2.]), 'max': array([350., 238.,  87.])}\n",
      "Gen 28 {'avg': array([115.54,  74.5 ,  21.26]), 'std': array([107.56824996,  55.23051693,  19.82605357]), 'min': array([0., 0., 2.]), 'max': array([350., 238.,  91.])}\n",
      "Gen 29 {'avg': array([116.9 ,  74.  ,  21.73]), 'std': array([105.50824612,  56.11238722,  20.03489705]), 'min': array([0., 0., 2.]), 'max': array([350., 238.,  82.])}\n",
      "Gen 30 {'avg': array([115.39,  71.48,  21.17]), 'std': array([102.90120456,  52.09039835,  19.87966549]), 'min': array([0., 0., 2.]), 'max': array([350., 238.,  82.])}\n",
      "Gen 31 {'avg': array([118.98,  71.78,  20.18]), 'std': array([106.57569892,  52.61721771,  18.83952229]), 'min': array([0., 0., 2.]), 'max': array([350., 238.,  78.])}\n",
      "Gen 32 {'avg': array([114.36,  74.4 ,  20.3 ]), 'std': array([103.69450516,  53.32166539,  19.01920082]), 'min': array([0., 0., 2.]), 'max': array([350., 238.,  75.])}\n",
      "Gen 33 {'avg': array([117.9 ,  72.23,  20.97]), 'std': array([105.39055935,  54.59228059,  19.3512041 ]), 'min': array([0., 0., 2.]), 'max': array([350., 238.,  78.])}\n",
      "Gen 34 {'avg': array([113.7 ,  74.29,  20.01]), 'std': array([103.38476677,  54.87226895,  19.45584488]), 'min': array([0., 0., 2.]), 'max': array([350., 238.,  78.])}\n",
      "Gen 35 {'avg': array([113.09,  73.69,  18.97]), 'std': array([101.62097175,  53.19449126,  18.82947424]), 'min': array([0., 0., 2.]), 'max': array([350., 238.,  76.])}\n",
      "Gen 36 {'avg': array([109.62,  77.04,  20.54]), 'std': array([101.94535595,  55.64852559,  19.93209472]), 'min': array([0., 0., 2.]), 'max': array([350., 238.,  76.])}\n",
      "Gen 37 {'avg': array([108.97,  75.05,  19.52]), 'std': array([97.92358807, 55.64321612, 17.94908354]), 'min': array([0., 0., 2.]), 'max': array([350., 238.,  76.])}\n",
      "Gen 38 {'avg': array([109.79,  73.9 ,  18.2 ]), 'std': array([97.1745126 , 53.83391125, 16.96702685]), 'min': array([0., 0., 2.]), 'max': array([350., 238.,  76.])}\n",
      "Gen 39 {'avg': array([108.06,  75.39,  19.03]), 'std': array([98.65696326, 54.26691349, 17.32596606]), 'min': array([0., 0., 2.]), 'max': array([350., 238.,  76.])}\n",
      "Gen 40 {'avg': array([110.5 ,  72.51,  19.24]), 'std': array([100.69463739,  52.77944581,  18.46408406]), 'min': array([0., 0., 2.]), 'max': array([350., 238.,  80.])}\n",
      "Gen 41 {'avg': array([111.08,  72.31,  19.47]), 'std': array([99.39181858, 52.6193301 , 18.65982583]), 'min': array([0., 0., 2.]), 'max': array([350., 238.,  80.])}\n",
      "Gen 42 {'avg': array([107.69,  73.84,  19.95]), 'std': array([98.5695384 , 52.89002174, 18.46963725]), 'min': array([0., 0., 2.]), 'max': array([350., 238.,  78.])}\n",
      "Gen 43 {'avg': array([110.02,  73.67,  19.57]), 'std': array([101.9640113 ,  53.60299525,  18.46253233]), 'min': array([0., 0., 2.]), 'max': array([350., 238.,  78.])}\n",
      "Gen 44 {'avg': array([107.27,  73.97,  19.5 ]), 'std': array([98.3650197 , 52.89829014, 18.36926781]), 'min': array([0., 0., 2.]), 'max': array([350., 238.,  80.])}\n",
      "Gen 45 {'avg': array([117.54,  72.86,  17.75]), 'std': array([103.4759315 ,  55.36407138,  15.8230054 ]), 'min': array([0., 0., 2.]), 'max': array([350., 238.,  75.])}\n",
      "Gen 46 {'avg': array([115.98,  69.55,  18.07]), 'std': array([100.03879048,  54.16186389,  16.25008   ]), 'min': array([0., 0., 2.]), 'max': array([350., 238.,  75.])}\n",
      "Gen 47 {'avg': array([113.13,  73.37,  17.17]), 'std': array([102.32640471,  55.26384985,  15.32517863]), 'min': array([0., 0., 2.]), 'max': array([350., 238.,  75.])}\n",
      "Gen 48 {'avg': array([111.78,  72.66,  17.57]), 'std': array([100.30050648,  53.39011519,  15.99328297]), 'min': array([0., 0., 2.]), 'max': array([350., 238.,  79.])}\n",
      "Gen 49 {'avg': array([113.11,  71.95,  17.94]), 'std': array([103.76674756,  53.40830928,  16.25719533]), 'min': array([0., 0., 2.]), 'max': array([350., 238.,  79.])}\n",
      "Gen 50 {'avg': array([115.25,  71.57,  17.58]), 'std': array([102.93817319,  53.89642938,  15.97258902]), 'min': array([0., 0., 2.]), 'max': array([350., 238.,  77.])}\n",
      "Gen 51 {'avg': array([114.7 ,  72.7 ,  16.73]), 'std': array([102.07580516,  54.18736015,  14.69820057]), 'min': array([0., 0., 2.]), 'max': array([350., 238.,  74.])}\n",
      "Gen 52 {'avg': array([116.07,  71.12,  18.19]), 'std': array([102.80216486,  55.63493147,  16.43696748]), 'min': array([0., 0., 2.]), 'max': array([350., 238.,  74.])}\n",
      "Gen 53 {'avg': array([112.34,  73.02,  18.3 ]), 'std': array([102.75117712,  54.79744155,  16.26806688]), 'min': array([0., 0., 2.]), 'max': array([350., 238.,  74.])}\n",
      "Gen 54 {'avg': array([116.05,  71.17,  17.85]), 'std': array([102.27329808,  56.09992068,  15.4708597 ]), 'min': array([0., 0., 2.]), 'max': array([350., 238.,  74.])}\n",
      "Gen 55 {'avg': array([111.26,  73.85,  17.22]), 'std': array([101.33001727,  55.00552245,  15.48520584]), 'min': array([0., 0., 2.]), 'max': array([350., 238.,  74.])}\n",
      "Gen 56 {'avg': array([115.81,  68.1 ,  16.89]), 'std': array([99.37350703, 50.70591681, 15.86183785]), 'min': array([0., 0., 2.]), 'max': array([350., 238.,  74.])}\n",
      "Gen 57 {'avg': array([111.41,  74.98,  16.19]), 'std': array([100.96535   ,  57.6730405 ,  14.62169279]), 'min': array([0., 0., 2.]), 'max': array([350., 238.,  75.])}\n",
      "Gen 58 {'avg': array([119.41,  71.09,  16.43]), 'std': array([103.57558544,  55.2845539 ,  15.0547368 ]), 'min': array([0., 0., 2.]), 'max': array([350., 238.,  74.])}\n",
      "Gen 59 {'avg': array([114.29,  71.44,  17.45]), 'std': array([99.48992864, 53.82180227, 15.58420675]), 'min': array([0., 0., 2.]), 'max': array([350., 238.,  74.])}\n",
      "Gen 60 {'avg': array([119.17,  69.44,  17.59]), 'std': array([102.08340267,  55.06728975,  16.29545642]), 'min': array([0., 0., 2.]), 'max': array([350., 238.,  74.])}\n",
      "Gen 61 {'avg': array([117.57,  68.62,  17.28]), 'std': array([100.86895013,  52.72224957,  16.21670743]), 'min': array([0., 0., 2.]), 'max': array([350., 238.,  74.])}\n",
      "Gen 62 {'avg': array([119.74,  65.31,  18.11]), 'std': array([101.22268718,  49.71271367,  16.840959  ]), 'min': array([0., 0., 2.]), 'max': array([350., 238.,  74.])}\n",
      "Gen 63 {'avg': array([114.83,  68.56,  18.85]), 'std': array([101.36301643,  52.59397684,  17.68297204]), 'min': array([0., 0., 2.]), 'max': array([350., 238.,  74.])}\n",
      "Gen 64 {'avg': array([114.1 ,  69.26,  18.62]), 'std': array([99.3940139 , 53.31990623, 17.63790237]), 'min': array([0., 0., 2.]), 'max': array([350., 238.,  74.])}\n",
      "Gen 65 {'avg': array([116.66,  67.45,  17.98]), 'std': array([101.70075909,  51.79177058,  16.8089143 ]), 'min': array([0., 0., 2.]), 'max': array([350., 238.,  71.])}\n",
      "Gen 66 {'avg': array([109.98,  69.1 ,  17.71]), 'std': array([97.98213919, 52.46398765, 16.22115594]), 'min': array([0., 0., 2.]), 'max': array([350., 238.,  71.])}\n",
      "Gen 67 {'avg': array([108.91,  69.35,  17.77]), 'std': array([99.7336548 , 50.8708905 , 17.04925512]), 'min': array([0., 0., 2.]), 'max': array([350., 238.,  70.])}\n",
      "Gen 68 {'avg': array([109.77,  70.58,  17.67]), 'std': array([100.4732656 ,  51.80833524,  16.53968258]), 'min': array([0., 0., 2.]), 'max': array([350., 238.,  68.])}\n",
      "Gen 69 {'avg': array([114.12,  68.53,  18.28]), 'std': array([98.56401778, 52.22211313, 17.07810294]), 'min': array([0., 0., 2.]), 'max': array([350., 238.,  68.])}\n",
      "Gen 70 {'avg': array([112.29,  70.77,  18.41]), 'std': array([99.92500138, 56.82356113, 16.46577967]), 'min': array([0., 0., 2.]), 'max': array([350., 238.,  68.])}\n",
      "Gen 71 {'avg': array([114.69,  69.54,  18.78]), 'std': array([102.07249336,  54.82488851,  16.73115656]), 'min': array([0., 0., 2.]), 'max': array([350., 238.,  71.])}\n",
      "Gen 72 {'avg': array([108.45,  70.01,  20.26]), 'std': array([98.28401447, 51.01872107, 19.01295348]), 'min': array([0., 0., 2.]), 'max': array([350., 238.,  71.])}\n",
      "Gen 73 {'avg': array([115.82,  66.08,  20.32]), 'std': array([100.22747927,  52.93234928,  18.45637017]), 'min': array([0., 0., 2.]), 'max': array([350., 238.,  71.])}\n",
      "Gen 74 {'avg': array([116.99,  65.82,  18.9 ]), 'std': array([100.89137674,  52.75004834,  17.18167629]), 'min': array([0., 0., 2.]), 'max': array([350., 238.,  70.])}\n",
      "Gen 75 {'avg': array([112.83,  68.54,  19.1 ]), 'std': array([100.01260471,  52.70340027,  17.47426679]), 'min': array([0., 0., 2.]), 'max': array([350., 238.,  70.])}\n",
      "Gen 76 {'avg': array([103.04,  71.88,  18.13]), 'std': array([94.16686466, 52.06078755, 16.34910089]), 'min': array([0., 0., 2.]), 'max': array([350., 238.,  70.])}\n",
      "Gen 77 {'avg': array([112.98,  68.24,  18.21]), 'std': array([100.96256534,  52.11643119,  15.51341033]), 'min': array([0., 0., 2.]), 'max': array([350., 238.,  70.])}\n",
      "Gen 78 {'avg': array([113.05,  66.59,  17.65]), 'std': array([99.43484047, 49.72647082, 15.60536767]), 'min': array([0., 0., 2.]), 'max': array([350., 238.,  70.])}\n",
      "Gen 79 {'avg': array([113.94,  68.45,  18.56]), 'std': array([103.28366957,  52.69523223,  17.04894132]), 'min': array([0., 0., 2.]), 'max': array([350., 238.,  70.])}\n",
      "Gen 80 {'avg': array([112.34,  66.8 ,  18.39]), 'std': array([99.54287719, 50.48167985, 16.95399363]), 'min': array([0., 0., 2.]), 'max': array([350., 238.,  70.])}\n",
      "Gen 81 {'avg': array([112.26,  70.32,  18.54]), 'std': array([102.65832845,  52.92312916,  17.58318515]), 'min': array([0., 0., 2.]), 'max': array([350., 238.,  84.])}\n",
      "Gen 82 {'avg': array([110.66,  70.75,  18.82]), 'std': array([102.26487373,  52.94249239,  17.4673295 ]), 'min': array([0., 0., 2.]), 'max': array([350., 238.,  84.])}\n",
      "Gen 83 {'avg': array([106.59,  72.91,  19.75]), 'std': array([98.95222029, 55.07124386, 18.61578631]), 'min': array([0., 0., 2.]), 'max': array([350., 238.,  84.])}\n",
      "Gen 84 {'avg': array([118.19,  67.53,  20.06]), 'std': array([103.72181015,  52.68632745,  18.53473496]), 'min': array([0., 0., 2.]), 'max': array([350., 238.,  98.])}\n",
      "Gen 85 {'avg': array([108.35,  72.31,  18.9 ]), 'std': array([101.81683309,  53.40705852,  16.53269488]), 'min': array([0., 0., 2.]), 'max': array([350., 238.,  80.])}\n",
      "Gen 86 {'avg': array([104.86,  70.49,  19.04]), 'std': array([98.03856588, 51.01127228, 16.50813133]), 'min': array([0., 0., 2.]), 'max': array([350., 238.,  80.])}\n",
      "Gen 87 {'avg': array([105.65,  70.61,  17.91]), 'std': array([96.5044429 , 52.43756192, 15.47584893]), 'min': array([0., 0., 2.]), 'max': array([350., 238.,  80.])}\n",
      "Gen 88 {'avg': array([100.19,  73.06,  18.15]), 'std': array([93.26228552, 52.8656448 , 16.54350326]), 'min': array([0., 0., 2.]), 'max': array([350., 238.,  80.])}\n",
      "Gen 89 {'avg': array([111.9 ,  69.63,  18.74]), 'std': array([103.61346438,  52.58129991,  17.64801405]), 'min': array([0., 0., 2.]), 'max': array([350., 238.,  90.])}\n",
      "Gen 90 {'avg': array([105.27,  71.32,  20.06]), 'std': array([98.34254979, 52.92974211, 18.47908006]), 'min': array([0., 0., 2.]), 'max': array([350., 238.,  95.])}\n",
      "Gen 91 {'avg': array([106.78,  69.75,  18.95]), 'std': array([97.05025296, 51.9215514 , 16.63933592]), 'min': array([0., 0., 2.]), 'max': array([350., 238.,  90.])}\n",
      "Gen 92 {'avg': array([108.17,  70.17,  19.29]), 'std': array([100.58857341,  54.00612095,  16.36049816]), 'min': array([0., 0., 2.]), 'max': array([350., 238.,  90.])}\n",
      "Gen 93 {'avg': array([106.79,  70.89,  20.17]), 'std': array([99.0440604 , 53.84624314, 17.8488403 ]), 'min': array([0., 0., 2.]), 'max': array([350., 238.,  90.])}\n",
      "Gen 94 {'avg': array([101.54,  73.14,  20.72]), 'std': array([94.19908917, 53.4239684 , 19.02213448]), 'min': array([0., 0., 2.]), 'max': array([350., 238.,  90.])}\n",
      "Gen 95 {'avg': array([112.12,  68.57,  20.24]), 'std': array([99.42326488, 53.33933914, 17.84663554]), 'min': array([0., 0., 2.]), 'max': array([350., 238.,  90.])}\n",
      "Gen 96 {'avg': array([108.15,  69.59,  21.38]), 'std': array([98.64465267, 53.43371501, 19.53805517]), 'min': array([0., 0., 2.]), 'max': array([350., 238.,  88.])}\n",
      "Gen 97 {'avg': array([106.76,  67.96,  20.83]), 'std': array([98.80740053, 50.67285664, 19.68352357]), 'min': array([0., 0., 2.]), 'max': array([350., 238.,  88.])}\n",
      "Gen 98 {'avg': array([104.28,  70.13,  20.07]), 'std': array([96.73872854, 50.95461804, 17.94951531]), 'min': array([0., 0., 2.]), 'max': array([350., 238.,  88.])}\n",
      "Gen 99 {'avg': array([105.53,  70.96,  20.17]), 'std': array([98.7512486 , 52.20630613, 18.60755492]), 'min': array([0., 0., 2.]), 'max': array([350., 238.,  88.])}\n",
      "Gen 100 {'avg': array([108.06,  68.89,  21.45]), 'std': array([97.53418068, 51.7654122 , 19.46195006]), 'min': array([0., 0., 2.]), 'max': array([350., 238.,  98.])}\n",
      "Gen 101 {'avg': array([109.95,  69.44,  22.01]), 'std': array([99.77508457, 54.43809695, 19.84766737]), 'min': array([0., 0., 2.]), 'max': array([350., 238.,  98.])}\n",
      "Gen 102 {'avg': array([114.14,  63.95,  21.79]), 'std': array([98.97504938, 49.01476818, 20.00864563]), 'min': array([0., 0., 2.]), 'max': array([350., 238., 102.])}\n",
      "Gen 103 {'avg': array([113.24,  64.83,  21.32]), 'std': array([98.73490973, 49.73008245, 19.74177297]), 'min': array([0., 0., 2.]), 'max': array([350., 238.,  98.])}\n",
      "Gen 104 {'avg': array([108.84,  69.12,  20.85]), 'std': array([98.5800913 , 53.34309327, 19.46246387]), 'min': array([0., 0., 2.]), 'max': array([350., 238.,  98.])}\n",
      "Gen 105 {'avg': array([111.96,  69.96,  21.27]), 'std': array([100.77270662,  56.4441175 ,  19.15246981]), 'min': array([0., 0., 2.]), 'max': array([350., 238.,  98.])}\n",
      "Gen 106 {'avg': array([108.12,  71.18,  22.68]), 'std': array([100.57676471,  54.57973617,  21.95626562]), 'min': array([0., 0., 2.]), 'max': array([350., 238., 105.])}\n",
      "Gen 107 {'avg': array([101.67,  72.09,  23.15]), 'std': array([96.38672678, 52.85831912, 22.90562158]), 'min': array([0., 0., 2.]), 'max': array([350., 238., 105.])}\n",
      "Gen 108 {'avg': array([104.57,  68.95,  24.37]), 'std': array([95.06442605, 50.42982748, 23.68444848]), 'min': array([0., 0., 2.]), 'max': array([350., 238., 105.])}\n",
      "Gen 109 {'avg': array([106.8 ,  69.61,  24.3 ]), 'std': array([96.37530804, 53.46249059, 23.48978501]), 'min': array([0., 0., 2.]), 'max': array([350., 238., 105.])}\n",
      "Gen 110 {'avg': array([109.3 ,  67.94,  25.18]), 'std': array([96.71292571, 54.0425425 , 23.56581422]), 'min': array([0., 0., 2.]), 'max': array([350., 238., 101.])}\n",
      "Gen 111 {'avg': array([103.05,  72.14,  24.49]), 'std': array([96.83990655, 55.66579201, 22.81512437]), 'min': array([0., 0., 2.]), 'max': array([350., 238., 101.])}\n",
      "Gen 112 {'avg': array([106.17,  69.24,  24.53]), 'std': array([97.71643209, 52.46658365, 22.9139499 ]), 'min': array([0., 0., 2.]), 'max': array([350., 238.,  97.])}\n",
      "Gen 113 {'avg': array([105.43,  69.91,  22.65]), 'std': array([98.40713948, 52.39505606, 21.02492568]), 'min': array([0., 0., 2.]), 'max': array([350., 238.,  97.])}\n",
      "Gen 114 {'avg': array([101.1 ,  72.79,  23.61]), 'std': array([97.17906153, 53.30258812, 21.97766821]), 'min': array([0., 0., 2.]), 'max': array([350., 238., 101.])}\n",
      "Gen 115 {'avg': array([106.07,  70.46,  21.76]), 'std': array([97.18325524, 52.84437908, 20.20847347]), 'min': array([0., 0., 2.]), 'max': array([350., 238., 101.])}\n",
      "Gen 116 {'avg': array([110.22,  66.78,  23.26]), 'std': array([98.44191993, 51.2707675 , 22.00073635]), 'min': array([0., 0., 2.]), 'max': array([350., 238., 101.])}\n",
      "Gen 117 {'avg': array([108.37,  66.42,  24.02]), 'std': array([97.67647158, 52.12680309, 22.14993454]), 'min': array([0., 0., 2.]), 'max': array([350., 238., 101.])}\n",
      "Gen 118 {'avg': array([109.48,  68.87,  23.95]), 'std': array([100.00914758,  53.44111806,  23.16176807]), 'min': array([0., 0., 2.]), 'max': array([350., 238., 105.])}\n",
      "Gen 119 {'avg': array([106.73,  71.46,  24.04]), 'std': array([98.51089838, 53.39033995, 23.174952  ]), 'min': array([0., 0., 2.]), 'max': array([350., 238., 103.])}\n",
      "Gen 120 {'avg': array([108.88,  69.99,  24.09]), 'std': array([102.33526079,  53.83836829,  23.33927805]), 'min': array([0., 0., 2.]), 'max': array([350., 238., 106.])}\n",
      "Gen 121 {'avg': array([104.98,  69.83,  24.42]), 'std': array([99.01413838, 51.38541719, 24.000075  ]), 'min': array([0., 0., 2.]), 'max': array([350., 238., 106.])}\n",
      "Gen 122 {'avg': array([108.23,  68.57,  22.83]), 'std': array([100.49287089,  51.4498309 ,  22.0390812 ]), 'min': array([0., 0., 2.]), 'max': array([350., 238.,  99.])}\n",
      "Gen 123 {'avg': array([109.28,  69.28,  22.48]), 'std': array([101.4357018 ,  52.9868059 ,  22.03519004]), 'min': array([0., 0., 2.]), 'max': array([350., 238.,  99.])}\n",
      "Gen 124 {'avg': array([108.08,  68.81,  21.74]), 'std': array([100.97570797,  50.85778112,  20.53612427]), 'min': array([0., 0., 2.]), 'max': array([350., 238.,  95.])}\n",
      "Gen 125 {'avg': array([106.95,  71.98,  21.17]), 'std': array([100.85448676,  53.82006689,  20.67658337]), 'min': array([0., 0., 2.]), 'max': array([350., 238.,  99.])}\n",
      "Gen 126 {'avg': array([103.04,  70.73,  21.74]), 'std': array([97.59394653, 50.61696455, 21.2403484 ]), 'min': array([0., 0., 2.]), 'max': array([350., 238.,  99.])}\n",
      "Gen 127 {'avg': array([104.6 ,  69.66,  22.27]), 'std': array([97.65152329, 50.83330011, 22.15619778]), 'min': array([0., 0., 2.]), 'max': array([350., 238.,  99.])}\n",
      "Gen 128 {'avg': array([105.76,  70.85,  21.28]), 'std': array([98.99829493, 52.57059539, 20.4019999 ]), 'min': array([0., 0., 2.]), 'max': array([350., 238., 103.])}\n",
      "Gen 129 {'avg': array([101.78,  72.89,  22.75]), 'std': array([96.22677174, 54.99670808, 21.14964539]), 'min': array([0., 0., 2.]), 'max': array([350., 238.,  99.])}\n",
      "Gen 130 {'avg': array([99.43, 72.21, 22.62]), 'std': array([92.60121543, 53.68357198, 21.24183608]), 'min': array([0., 0., 2.]), 'max': array([350., 238.,  99.])}\n",
      "Gen 131 {'avg': array([105.56,  71.17,  23.76]), 'std': array([98.39322334, 54.38548612, 22.14548261]), 'min': array([0., 0., 2.]), 'max': array([350., 238.,  95.])}\n",
      "Gen 132 {'avg': array([106.11,  70.18,  21.45]), 'std': array([98.07404295, 52.34928462, 19.78907527]), 'min': array([0., 0., 2.]), 'max': array([350., 238.,  93.])}\n",
      "Gen 133 {'avg': array([104.23,  68.66,  22.49]), 'std': array([95.33109199, 49.78759283, 20.46044721]), 'min': array([0., 0., 2.]), 'max': array([350., 238.,  93.])}\n",
      "Gen 134 {'avg': array([105.24,  69.02,  22.46]), 'std': array([96.27659321, 51.8792791 , 19.47738175]), 'min': array([0., 0., 2.]), 'max': array([350., 238.,  93.])}\n",
      "Gen 135 {'avg': array([106.48,  67.96,  22.08]), 'std': array([97.18780582, 52.03093695, 19.70262927]), 'min': array([0., 0., 2.]), 'max': array([350., 238.,  93.])}\n",
      "Gen 136 {'avg': array([103.67,  70.05,  22.35]), 'std': array([95.99969323, 52.34317052, 20.24222073]), 'min': array([0., 0., 2.]), 'max': array([350., 238.,  95.])}\n",
      "Gen 137 {'avg': array([105.7 ,  68.95,  23.12]), 'std': array([95.92460581, 51.46306928, 22.45897593]), 'min': array([0., 0., 2.]), 'max': array([350., 238., 100.])}\n",
      "Gen 138 {'avg': array([99.17, 71.46, 24.55]), 'std': array([90.86231947, 51.46793565, 24.06756116]), 'min': array([0., 0., 2.]), 'max': array([350., 238., 100.])}\n",
      "Gen 139 {'avg': array([99.51, 71.61, 26.2 ]), 'std': array([94.22796772, 51.12570684, 24.71800963]), 'min': array([0., 0., 2.]), 'max': array([350., 238., 102.])}\n",
      "Gen 140 {'avg': array([102.14,  70.93,  22.23]), 'std': array([93.54229204, 52.19602571, 20.34003687]), 'min': array([0., 0., 2.]), 'max': array([350., 238.,  96.])}\n",
      "Gen 141 {'avg': array([101.73,  72.08,  22.9 ]), 'std': array([94.93754315, 53.72684245, 21.29107794]), 'min': array([0., 0., 2.]), 'max': array([350., 238., 100.])}\n",
      "Gen 142 {'avg': array([100.4 ,  73.77,  22.76]), 'std': array([95.33582747, 54.46519164, 21.29653493]), 'min': array([0., 0., 2.]), 'max': array([350., 238.,  96.])}\n",
      "Gen 143 {'avg': array([106.96,  69.78,  21.71]), 'std': array([97.68949995, 52.17692593, 20.98584999]), 'min': array([0., 0., 2.]), 'max': array([350., 238.,  96.])}\n",
      "Gen 144 {'avg': array([98.57, 72.63, 22.16]), 'std': array([92.44352384, 52.51450371, 20.98462294]), 'min': array([0., 0., 2.]), 'max': array([350., 238.,  96.])}\n",
      "Gen 145 {'avg': array([108.47,  70.87,  21.92]), 'std': array([100.926553  ,  55.27289661,  20.50740354]), 'min': array([0., 0., 2.]), 'max': array([350., 238.,  96.])}\n",
      "Gen 146 {'avg': array([104.44,  68.99,  21.99]), 'std': array([95.31718838, 50.75893911, 20.49365512]), 'min': array([0., 0., 2.]), 'max': array([350., 238.,  96.])}\n",
      "Gen 147 {'avg': array([104.77,  71.21,  22.28]), 'std': array([97.69972927, 52.90733314, 21.45743694]), 'min': array([0., 0., 2.]), 'max': array([350., 238., 112.])}\n",
      "Gen 148 {'avg': array([106.79,  69.74,  22.14]), 'std': array([98.81177005, 52.81261592, 21.3813096 ]), 'min': array([0., 0., 2.]), 'max': array([350., 238., 106.])}\n",
      "Gen 149 {'avg': array([107.24,  70.81,  22.33]), 'std': array([100.01081142,  54.09615421,  21.47000466]), 'min': array([0., 0., 2.]), 'max': array([350., 238., 104.])}\n",
      "Gen 150 {'avg': array([110.49,  66.52,  24.09]), 'std': array([97.98576376, 50.72543346, 22.29847304]), 'min': array([0., 0., 2.]), 'max': array([350., 238., 104.])}\n",
      "Best individual is logical_and(logical_or(logical_and(logical_and(less(multiply(age_avg, pclass), add(multiply(sibsp, fare_avg), fare_avg)), sex), sex), less(bool_to_float(sex), add(subtract(age, subtract(multiply(pclass, age), fare_avg)), add(age, multiply(bool_to_float(logical_or(embarked_C, logical_not(sex))), add(negative(multiply(age, feature_sum_avg)), pclass)))))), embarked_C), (0.0, 207.0, 41.0)\n"
     ]
    }
   ],
   "source": [
    "#gen = range(200)\n",
    "gen = range(150)\n",
    "numSelect = 100\n",
    "numOffspring = 900\n",
    "mutPb = 0.4\n",
    "crossoverPb = 0.6\n",
    "\n",
    "hof = tools.ParetoFront()\n",
    "stats = tools.Statistics(lambda ind: ind.fitness.values)\n",
    "stats.register(\"avg\", np.mean, axis=0)\n",
    "stats.register(\"std\", np.std, axis=0)\n",
    "stats.register(\"min\", np.min, axis=0)\n",
    "stats.register(\"max\", np.max, axis=0)\n",
    "\n",
    "pop = toolbox.population(n=numSelect)\n",
    "\n",
    "# Evaluate the entire population\n",
    "fitnesses = list(map(toolbox.evaluate, pop))\n",
    "# normalized_fitnesses = toolbox.normalize(fitnesses)\n",
    "for ind, fit in zip(pop, fitnesses):\n",
    "    ind.fitness.values = tuple(fit)\n",
    "\n",
    "hof.update(pop)\n",
    "print(stats.compile(pop))\n",
    "\n",
    "fpList = []\n",
    "npList = []\n",
    "\n",
    "for g in gen:\n",
    "    offspring = []\n",
    "    for i in range(numOffspring):\n",
    "        r = random.random()\n",
    "        if r < crossoverPb:\n",
    "            parent1, parent2 = toolbox.clone(random.choice(pop[::2])), toolbox.clone(random.choice(pop[1::2]))\n",
    "            parent1, _ = toolbox.mate(parent1, parent2)\n",
    "            del parent1.fitness.values\n",
    "            offspring.append(parent1)\n",
    "        elif r > 1 - mutPb:\n",
    "            mutant = toolbox.clone(random.choice(pop))\n",
    "            mutant = toolbox.mutate(mutant)[0]\n",
    "            del mutant.fitness.values\n",
    "            offspring.append(mutant)\n",
    "    while len(offspring) < numOffspring:\n",
    "        offspring.append(random.choice(pop))\n",
    "\n",
    "    #evaluate invalid-fitness individuals\n",
    "    invalid_ind = [ind for ind in offspring if not ind.fitness.valid]\n",
    "    fitnesses = list(map(toolbox.evaluate, invalid_ind))\n",
    "    # normalized_fitnesses = toolbox.normalize(fitnesses)\n",
    "    for ind, fit in zip(invalid_ind, fitnesses):\n",
    "        ind.fitness.values = tuple(fit)\n",
    "\n",
    "    hof.update(offspring)\n",
    "    pop[:] = toolbox.select(pop + offspring, numSelect)\n",
    "    curStats = stats.compile(pop)\n",
    "    fpList.append(curStats['avg'][0])\n",
    "    npList.append(curStats['avg'][1])\n",
    "    print(\"Gen\", g+1, stats.compile(pop))\n",
    "    # print(\"Generation:\", g+1)\n",
    "\n",
    "best_ind = tools.selBest(pop, 1)[0]\n",
    "print(\"Best individual is %s, %s\" % (best_ind, best_ind.fitness.values))\n",
    "    \n"
   ],
   "metadata": {
    "collapsed": false,
    "ExecuteTime": {
     "end_time": "2025-02-11T05:11:49.194156Z",
     "start_time": "2025-02-11T05:04:37.881096Z"
    }
   },
   "id": "83e3064040dd8870",
   "execution_count": 11
  },
  {
   "cell_type": "code",
   "outputs": [
    {
     "data": {
      "text/plain": "<Figure size 640x480 with 1 Axes>",
      "image/png": "[encoded data removed]"
     },
     "metadata": {},
     "output_type": "display_data"
    }
   ],
   "source": [
    "\n",
    "plt.plot(gen, fpList, label=\"average false positives\")\n",
    "plt.plot(gen, npList, label=\"average false negatives\")\n",
    "plt.xlabel(\"Generation\")\n",
    "plt.ylabel(\"Fitness\")\n",
    "plt.legend(loc=\"upper right\")\n",
    "plt.show()"
   ],
   "metadata": {
    "collapsed": false,
    "ExecuteTime": {
     "end_time": "2025-02-11T05:13:27.354435Z",
     "start_time": "2025-02-11T05:13:27.240132Z"
    }
   },
   "id": "221d644ab72df4af",
   "execution_count": 12
  },
  {
   "cell_type": "code",
   "outputs": [
    {
     "data": {
      "text/plain": "<Figure size 640x480 with 1 Axes>",
      "image/png": "[encoded data removed]"
     },
     "metadata": {},
     "output_type": "display_data"
    },
    {
     "name": "stdout",
     "output_type": "stream",
     "text": [
      "Area Under Curve: 11354.0\n"
     ]
    }
   ],
   "source": [
    "hof_new = tools.ParetoFront()\n",
    "\n",
    "pop_fpnp = []\n",
    "for ind in pop:\n",
    "    ind_clone = toolbox.clone(ind)\n",
    "    ind_clone.fitness.weights = ind_clone.fitness.weights[0:2]\n",
    "    ind_clone.fitness.values = ind_clone.fitness.values[0:2]\n",
    "    pop_fpnp.append(ind_clone)\n",
    "\n",
    "hof_new.update(pop_fpnp)\n",
    "\n",
    "\"\"\"Split fitness values into separate lists\"\"\"\n",
    "fitness_1 = [ind.fitness.values[0] for ind in hof_new]\n",
    "fitness_2 = [ind.fitness.values[1] for ind in hof_new]\n",
    "pop_1 = [ind.fitness.values[0] for ind in pop]\n",
    "pop_2 = [ind.fitness.values[1] for ind in pop]\n",
    "\n",
    "'''Print dominated population for debugging'''\n",
    "# for ind in pop:\n",
    "#     print(ind.fitness)\n",
    "\n",
    "plt.scatter(pop_1, pop_2, color='b')\n",
    "plt.scatter(fitness_1, fitness_2, color='r')\n",
    "plt.plot(fitness_1, fitness_2, color='r', drawstyle='steps-post')\n",
    "plt.xlabel(\"False positives\")\n",
    "plt.ylabel(\"False negatives\")\n",
    "plt.title(\"Pareto Front\")\n",
    "plt.show()\n",
    "\n",
    "f1 = np.array(fitness_1)\n",
    "f2 = np.array(fitness_2)\n",
    "\n",
    "\"\"\"Calculate area under curve with least squares method\"\"\"\n",
    "print(\"Area Under Curve: %s\" % (np.sum(np.abs(np.diff(f1))*f2[:-1])))"
   ],
   "metadata": {
    "collapsed": false,
    "ExecuteTime": {
     "end_time": "2025-02-11T05:13:54.608901Z",
     "start_time": "2025-02-11T05:13:54.542822Z"
    }
   },
   "id": "a6445ae6698d7b8b",
   "execution_count": 13
  },
  {
   "cell_type": "code",
   "outputs": [
    {
     "name": "stdout",
     "output_type": "stream",
     "text": [
      "(27.0, 86.0, 25.0)\n",
      "logical_and(sex, less(multiply(subtract(add(multiply(sibsp, multiply(pclass, age)), subtract(sibsp, age)), sibsp), pclass), multiply(add(add(age, age), add(sibsp, age_avg)), sibsp)))\n"
     ]
    },
    {
     "ename": "TypeError",
     "evalue": "<lambda>() takes 9 positional arguments but 10 were given",
     "output_type": "error",
     "traceback": [
      "\u001B[0;31m---------------------------------------------------------------------------\u001B[0m",
      "\u001B[0;31mTypeError\u001B[0m                                 Traceback (most recent call last)",
      "Cell \u001B[0;32mIn[14], line 9\u001B[0m\n\u001B[1;32m      6\u001B[0m \u001B[38;5;28mprint\u001B[39m(best)\n\u001B[1;32m      8\u001B[0m func \u001B[38;5;241m=\u001B[39m gp\u001B[38;5;241m.\u001B[39mcompile(expr\u001B[38;5;241m=\u001B[39mbest, pset\u001B[38;5;241m=\u001B[39mpset)\n\u001B[0;32m----> 9\u001B[0m predictions \u001B[38;5;241m=\u001B[39m [\u001B[38;5;28mint\u001B[39m(func(\u001B[38;5;241m*\u001B[39mx)) \u001B[38;5;28;01mfor\u001B[39;00m x \u001B[38;5;129;01min\u001B[39;00m test_data\u001B[38;5;241m.\u001B[39mvalues]\n\u001B[1;32m     11\u001B[0m pred_df \u001B[38;5;241m=\u001B[39m pd\u001B[38;5;241m.\u001B[39mDataFrame(predictions, index\u001B[38;5;241m=\u001B[39mtest_data\u001B[38;5;241m.\u001B[39mindex, columns\u001B[38;5;241m=\u001B[39m[\u001B[38;5;124m'\u001B[39m\u001B[38;5;124mSurvived\u001B[39m\u001B[38;5;124m'\u001B[39m])\n\u001B[1;32m     12\u001B[0m \u001B[38;5;28mtype\u001B[39m(pred_df)\n",
      "\u001B[0;31mTypeError\u001B[0m: <lambda>() takes 9 positional arguments but 10 were given"
     ]
    }
   ],
   "source": [
    "\n",
    "best = pop[0]\n",
    "for ind in pop:\n",
    "    if best.fitness.values[0] + best.fitness.values[1] > ind.fitness.values[0] + ind.fitness.values[1]:\n",
    "        best= ind\n",
    "print(best.fitness.values)\n",
    "print(best)\n",
    "\n",
    "func = gp.compile(expr=best, pset=pset)\n",
    "predictions = [int(func(*x)) for x in test_data.values]\n",
    "\n",
    "pred_df = pd.DataFrame(predictions, index=test_data.index, columns=['Survived'])\n",
    "type(pred_df)\n",
    "pred_df\n",
    "pred_df.to_csv('predictions.csv', header=True, sep=',')"
   ],
   "metadata": {
    "collapsed": false,
    "ExecuteTime": {
     "end_time": "2025-02-11T05:14:20.294745Z",
     "start_time": "2025-02-11T05:14:20.075045Z"
    }
   },
   "id": "a141710b7ed623f3",
   "execution_count": 14
  },
  {
   "cell_type": "code",
   "outputs": [],
   "source": [],
   "metadata": {
    "collapsed": false
   },
   "id": "2da31be4febeaf4"
  }
 ],
 "metadata": {
  "kernelspec": {
   "display_name": "Python 3",
   "language": "python",
   "name": "python3"
  },
  "language_info": {
   "codemirror_mode": {
    "name": "ipython",
    "version": 2
   },
   "file_extension": ".py",
   "mimetype": "text/x-python",
   "name": "python",
   "nbconvert_exporter": "python",
   "pygments_lexer": "ipython2",
   "version": "2.7.6"
  }
 },
 "nbformat": 4,
 "nbformat_minor": 5
}
